{
 "cells": [
  {
   "cell_type": "code",
   "execution_count": 65,
   "metadata": {
    "_cell_guid": "b1076dfc-b9ad-4769-8c92-a6c4dae69d19",
    "_uuid": "8f2839f25d086af736a60e9eeb907d3b93b6e0e5",
    "execution": {
     "iopub.execute_input": "2022-04-01T00:36:03.125164Z",
     "iopub.status.busy": "2022-04-01T00:36:03.124719Z",
     "iopub.status.idle": "2022-04-01T00:36:03.140458Z",
     "shell.execute_reply": "2022-04-01T00:36:03.139304Z",
     "shell.execute_reply.started": "2022-04-01T00:36:03.12507Z"
    },
    "jupyter": {
     "source_hidden": true
    }
   },
   "outputs": [],
   "source": [
    "# This Python 3 environment comes with many helpful analytics libraries installed\n",
    "import numpy as np \n",
    "import pandas as pd "
   ]
  },
  {
   "cell_type": "markdown",
   "metadata": {},
   "source": [
    "## Library Installation"
   ]
  },
  {
   "cell_type": "code",
   "execution_count": 66,
   "metadata": {
    "execution": {
     "iopub.execute_input": "2022-04-01T00:36:03.394272Z",
     "iopub.status.busy": "2022-04-01T00:36:03.393739Z",
     "iopub.status.idle": "2022-04-01T00:36:23.068736Z",
     "shell.execute_reply": "2022-04-01T00:36:23.067322Z",
     "shell.execute_reply.started": "2022-04-01T00:36:03.394232Z"
    }
   },
   "outputs": [
    {
     "name": "stdout",
     "output_type": "stream",
     "text": [
      "\n",
      "[notice] A new release of pip available: 22.1.2 -> 22.3.1\n",
      "[notice] To update, run: python.exe -m pip install --upgrade pip\n"
     ]
    },
    {
     "name": "stderr",
     "output_type": "stream",
     "text": [
      "ERROR: Invalid requirement: '#Using'\n"
     ]
    },
    {
     "name": "stdout",
     "output_type": "stream",
     "text": [
      "Requirement already satisfied: openpyxl in c:\\users\\anike\\anaconda\\lib\\site-packages (3.0.5)\n",
      "Requirement already satisfied: jdcal in c:\\users\\anike\\anaconda\\lib\\site-packages (from openpyxl) (1.4.1)\n",
      "Requirement already satisfied: et-xmlfile in c:\\users\\anike\\anaconda\\lib\\site-packages (from openpyxl) (1.0.1)\n",
      "\n",
      "[notice] A new release of pip available: 22.1.2 -> 22.3.1\n",
      "[notice] To update, run: python.exe -m pip install --upgrade pip\n"
     ]
    }
   ],
   "source": [
    "# install packs\n",
    "!pip install xlrd #Using the xlrd module, Python xlrd \n",
    "!pip install openpyxl"
   ]
  },
  {
   "cell_type": "markdown",
   "metadata": {},
   "source": [
    "## Library Import"
   ]
  },
  {
   "cell_type": "code",
   "execution_count": 67,
   "metadata": {
    "execution": {
     "iopub.execute_input": "2022-04-01T00:36:23.072402Z",
     "iopub.status.busy": "2022-04-01T00:36:23.071851Z",
     "iopub.status.idle": "2022-04-01T00:36:24.637533Z",
     "shell.execute_reply": "2022-04-01T00:36:24.63634Z",
     "shell.execute_reply.started": "2022-04-01T00:36:23.072349Z"
    }
   },
   "outputs": [],
   "source": [
    "### Numerical data libs\n",
    "import numpy as np\n",
    "import pandas as pd\n",
    "import missingno as msno\n",
    "\n",
    "\n",
    "### Machine learning functions\n",
    "# Feature selection\n",
    "from sklearn.feature_selection import SelectKBest, mutual_info_classif, chi2, f_classif\n",
    "\n",
    "# Data split\n",
    "from sklearn.model_selection import train_test_split, cross_validate, RepeatedStratifiedKFold\n",
    "\n",
    "# Model selection\n",
    "from sklearn.dummy import DummyClassifier\n",
    "from sklearn.linear_model import LogisticRegression\n",
    "from sklearn.svm import SVC\n",
    "\n",
    "### Graphical libs\n",
    "import matplotlib.pyplot as plt\n",
    "import seaborn as sns\n",
    "\n",
    "# Warnings\n",
    "import warnings\n",
    "warnings.simplefilter(\"ignore\")"
   ]
  },
  {
   "cell_type": "code",
   "execution_count": 68,
   "metadata": {
    "execution": {
     "iopub.execute_input": "2022-04-01T00:36:24.677246Z",
     "iopub.status.busy": "2022-04-01T00:36:24.676714Z",
     "iopub.status.idle": "2022-04-01T00:36:24.698449Z",
     "shell.execute_reply": "2022-04-01T00:36:24.697464Z",
     "shell.execute_reply.started": "2022-04-01T00:36:24.677208Z"
    }
   },
   "outputs": [],
   "source": [
    "def run_modelo_cv_full(model, X,y , n_splits, n_repeats):\n",
    "    \"\"\"\n",
    "    This function performs the machine learning process for data prediction:\n",
    "        - Data split\n",
    "        - Model training\n",
    "        - Test score\n",
    "    \n",
    "    \"\"\"\n",
    "    np.random.seed(614)\n",
    "\n",
    "    cv = RepeatedStratifiedKFold(n_splits=n_splits, n_repeats=n_repeats)\n",
    "    resultados = cross_validate(model,X,y,cv=cv, scoring='roc_auc', return_train_score=True)\n",
    "\n",
    "    auc_mean_test = resultados['test_score'].mean()\n",
    "    auc_std_test = resultados['test_score'].std()\n",
    "\n",
    "    auc_mean_train = resultados['train_score'].mean()\n",
    "    auc_std_train = resultados['train_score'].std()\n",
    "    \n",
    "    print(f'AUC_mean_test -> {auc_mean_test} | AUC_mean_train -> {auc_mean_train}\\n')\n",
    "    #print(f'AUC -> {auc_mean_test - 2*auc_std} | {auc_mean_test + 2*auc_std} \\n')\n",
    "    \n",
    "    return [auc_mean_test, auc_mean_train]"
   ]
  },
  {
   "cell_type": "markdown",
   "metadata": {},
   "source": [
    "# EDA"
   ]
  },
  {
   "cell_type": "code",
   "execution_count": 69,
   "metadata": {
    "execution": {
     "iopub.execute_input": "2022-04-01T00:36:24.70288Z",
     "iopub.status.busy": "2022-04-01T00:36:24.702208Z",
     "iopub.status.idle": "2022-04-01T00:36:30.960478Z",
     "shell.execute_reply": "2022-04-01T00:36:30.959533Z",
     "shell.execute_reply.started": "2022-04-01T00:36:24.70283Z"
    }
   },
   "outputs": [
    {
     "data": {
      "text/html": [
       "<div>\n",
       "<style scoped>\n",
       "    .dataframe tbody tr th:only-of-type {\n",
       "        vertical-align: middle;\n",
       "    }\n",
       "\n",
       "    .dataframe tbody tr th {\n",
       "        vertical-align: top;\n",
       "    }\n",
       "\n",
       "    .dataframe thead th {\n",
       "        text-align: right;\n",
       "    }\n",
       "</style>\n",
       "<table border=\"1\" class=\"dataframe\">\n",
       "  <thead>\n",
       "    <tr style=\"text-align: right;\">\n",
       "      <th></th>\n",
       "      <th>PATIENT_VISIT_IDENTIFIER</th>\n",
       "      <th>AGE_ABOVE65</th>\n",
       "      <th>AGE_PERCENTIL</th>\n",
       "      <th>GENDER</th>\n",
       "      <th>DISEASE GROUPING 1</th>\n",
       "      <th>DISEASE GROUPING 2</th>\n",
       "      <th>DISEASE GROUPING 3</th>\n",
       "      <th>DISEASE GROUPING 4</th>\n",
       "      <th>DISEASE GROUPING 5</th>\n",
       "      <th>DISEASE GROUPING 6</th>\n",
       "      <th>...</th>\n",
       "      <th>TEMPERATURE_DIFF</th>\n",
       "      <th>OXYGEN_SATURATION_DIFF</th>\n",
       "      <th>BLOODPRESSURE_DIASTOLIC_DIFF_REL</th>\n",
       "      <th>BLOODPRESSURE_SISTOLIC_DIFF_REL</th>\n",
       "      <th>HEART_RATE_DIFF_REL</th>\n",
       "      <th>RESPIRATORY_RATE_DIFF_REL</th>\n",
       "      <th>TEMPERATURE_DIFF_REL</th>\n",
       "      <th>OXYGEN_SATURATION_DIFF_REL</th>\n",
       "      <th>WINDOW</th>\n",
       "      <th>ICU</th>\n",
       "    </tr>\n",
       "  </thead>\n",
       "  <tbody>\n",
       "    <tr>\n",
       "      <th>0</th>\n",
       "      <td>0</td>\n",
       "      <td>1</td>\n",
       "      <td>60th</td>\n",
       "      <td>0</td>\n",
       "      <td>0.0</td>\n",
       "      <td>0.0</td>\n",
       "      <td>0.0</td>\n",
       "      <td>0.0</td>\n",
       "      <td>1.0</td>\n",
       "      <td>1.0</td>\n",
       "      <td>...</td>\n",
       "      <td>-1.000000</td>\n",
       "      <td>-1.000000</td>\n",
       "      <td>-1.000000</td>\n",
       "      <td>-1.000000</td>\n",
       "      <td>-1.000000</td>\n",
       "      <td>-1.000000</td>\n",
       "      <td>-1.000000</td>\n",
       "      <td>-1.000000</td>\n",
       "      <td>0-2</td>\n",
       "      <td>0</td>\n",
       "    </tr>\n",
       "    <tr>\n",
       "      <th>1</th>\n",
       "      <td>0</td>\n",
       "      <td>1</td>\n",
       "      <td>60th</td>\n",
       "      <td>0</td>\n",
       "      <td>0.0</td>\n",
       "      <td>0.0</td>\n",
       "      <td>0.0</td>\n",
       "      <td>0.0</td>\n",
       "      <td>1.0</td>\n",
       "      <td>1.0</td>\n",
       "      <td>...</td>\n",
       "      <td>-1.000000</td>\n",
       "      <td>-1.000000</td>\n",
       "      <td>-1.000000</td>\n",
       "      <td>-1.000000</td>\n",
       "      <td>-1.000000</td>\n",
       "      <td>-1.000000</td>\n",
       "      <td>-1.000000</td>\n",
       "      <td>-1.000000</td>\n",
       "      <td>2-4</td>\n",
       "      <td>0</td>\n",
       "    </tr>\n",
       "    <tr>\n",
       "      <th>2</th>\n",
       "      <td>0</td>\n",
       "      <td>1</td>\n",
       "      <td>60th</td>\n",
       "      <td>0</td>\n",
       "      <td>0.0</td>\n",
       "      <td>0.0</td>\n",
       "      <td>0.0</td>\n",
       "      <td>0.0</td>\n",
       "      <td>1.0</td>\n",
       "      <td>1.0</td>\n",
       "      <td>...</td>\n",
       "      <td>NaN</td>\n",
       "      <td>NaN</td>\n",
       "      <td>NaN</td>\n",
       "      <td>NaN</td>\n",
       "      <td>NaN</td>\n",
       "      <td>NaN</td>\n",
       "      <td>NaN</td>\n",
       "      <td>NaN</td>\n",
       "      <td>4-6</td>\n",
       "      <td>0</td>\n",
       "    </tr>\n",
       "    <tr>\n",
       "      <th>3</th>\n",
       "      <td>0</td>\n",
       "      <td>1</td>\n",
       "      <td>60th</td>\n",
       "      <td>0</td>\n",
       "      <td>0.0</td>\n",
       "      <td>0.0</td>\n",
       "      <td>0.0</td>\n",
       "      <td>0.0</td>\n",
       "      <td>1.0</td>\n",
       "      <td>1.0</td>\n",
       "      <td>...</td>\n",
       "      <td>-1.000000</td>\n",
       "      <td>-1.000000</td>\n",
       "      <td>NaN</td>\n",
       "      <td>NaN</td>\n",
       "      <td>NaN</td>\n",
       "      <td>NaN</td>\n",
       "      <td>-1.000000</td>\n",
       "      <td>-1.000000</td>\n",
       "      <td>6-12</td>\n",
       "      <td>0</td>\n",
       "    </tr>\n",
       "    <tr>\n",
       "      <th>4</th>\n",
       "      <td>0</td>\n",
       "      <td>1</td>\n",
       "      <td>60th</td>\n",
       "      <td>0</td>\n",
       "      <td>0.0</td>\n",
       "      <td>0.0</td>\n",
       "      <td>0.0</td>\n",
       "      <td>0.0</td>\n",
       "      <td>1.0</td>\n",
       "      <td>1.0</td>\n",
       "      <td>...</td>\n",
       "      <td>-0.238095</td>\n",
       "      <td>-0.818182</td>\n",
       "      <td>-0.389967</td>\n",
       "      <td>0.407558</td>\n",
       "      <td>-0.230462</td>\n",
       "      <td>0.096774</td>\n",
       "      <td>-0.242282</td>\n",
       "      <td>-0.814433</td>\n",
       "      <td>ABOVE_12</td>\n",
       "      <td>1</td>\n",
       "    </tr>\n",
       "    <tr>\n",
       "      <th>5</th>\n",
       "      <td>1</td>\n",
       "      <td>1</td>\n",
       "      <td>90th</td>\n",
       "      <td>1</td>\n",
       "      <td>0.0</td>\n",
       "      <td>0.0</td>\n",
       "      <td>0.0</td>\n",
       "      <td>0.0</td>\n",
       "      <td>0.0</td>\n",
       "      <td>0.0</td>\n",
       "      <td>...</td>\n",
       "      <td>-1.000000</td>\n",
       "      <td>-1.000000</td>\n",
       "      <td>-1.000000</td>\n",
       "      <td>-1.000000</td>\n",
       "      <td>-1.000000</td>\n",
       "      <td>-1.000000</td>\n",
       "      <td>-1.000000</td>\n",
       "      <td>-1.000000</td>\n",
       "      <td>0-2</td>\n",
       "      <td>1</td>\n",
       "    </tr>\n",
       "    <tr>\n",
       "      <th>6</th>\n",
       "      <td>1</td>\n",
       "      <td>1</td>\n",
       "      <td>90th</td>\n",
       "      <td>1</td>\n",
       "      <td>0.0</td>\n",
       "      <td>0.0</td>\n",
       "      <td>0.0</td>\n",
       "      <td>0.0</td>\n",
       "      <td>0.0</td>\n",
       "      <td>0.0</td>\n",
       "      <td>...</td>\n",
       "      <td>-1.000000</td>\n",
       "      <td>-1.000000</td>\n",
       "      <td>-1.000000</td>\n",
       "      <td>-1.000000</td>\n",
       "      <td>-1.000000</td>\n",
       "      <td>-1.000000</td>\n",
       "      <td>-1.000000</td>\n",
       "      <td>-1.000000</td>\n",
       "      <td>2-4</td>\n",
       "      <td>1</td>\n",
       "    </tr>\n",
       "    <tr>\n",
       "      <th>7</th>\n",
       "      <td>1</td>\n",
       "      <td>1</td>\n",
       "      <td>90th</td>\n",
       "      <td>1</td>\n",
       "      <td>0.0</td>\n",
       "      <td>0.0</td>\n",
       "      <td>0.0</td>\n",
       "      <td>0.0</td>\n",
       "      <td>0.0</td>\n",
       "      <td>0.0</td>\n",
       "      <td>...</td>\n",
       "      <td>-1.000000</td>\n",
       "      <td>-1.000000</td>\n",
       "      <td>-1.000000</td>\n",
       "      <td>-1.000000</td>\n",
       "      <td>-1.000000</td>\n",
       "      <td>-1.000000</td>\n",
       "      <td>-1.000000</td>\n",
       "      <td>-1.000000</td>\n",
       "      <td>4-6</td>\n",
       "      <td>1</td>\n",
       "    </tr>\n",
       "    <tr>\n",
       "      <th>8</th>\n",
       "      <td>1</td>\n",
       "      <td>1</td>\n",
       "      <td>90th</td>\n",
       "      <td>1</td>\n",
       "      <td>0.0</td>\n",
       "      <td>0.0</td>\n",
       "      <td>0.0</td>\n",
       "      <td>0.0</td>\n",
       "      <td>0.0</td>\n",
       "      <td>0.0</td>\n",
       "      <td>...</td>\n",
       "      <td>-0.880952</td>\n",
       "      <td>-1.000000</td>\n",
       "      <td>-0.906832</td>\n",
       "      <td>-0.831132</td>\n",
       "      <td>-0.940967</td>\n",
       "      <td>-0.817204</td>\n",
       "      <td>-0.882574</td>\n",
       "      <td>-1.000000</td>\n",
       "      <td>6-12</td>\n",
       "      <td>1</td>\n",
       "    </tr>\n",
       "    <tr>\n",
       "      <th>9</th>\n",
       "      <td>1</td>\n",
       "      <td>1</td>\n",
       "      <td>90th</td>\n",
       "      <td>1</td>\n",
       "      <td>0.0</td>\n",
       "      <td>0.0</td>\n",
       "      <td>0.0</td>\n",
       "      <td>0.0</td>\n",
       "      <td>1.0</td>\n",
       "      <td>0.0</td>\n",
       "      <td>...</td>\n",
       "      <td>0.142857</td>\n",
       "      <td>-0.797980</td>\n",
       "      <td>0.315690</td>\n",
       "      <td>0.200359</td>\n",
       "      <td>-0.239515</td>\n",
       "      <td>0.645161</td>\n",
       "      <td>0.139709</td>\n",
       "      <td>-0.802317</td>\n",
       "      <td>ABOVE_12</td>\n",
       "      <td>1</td>\n",
       "    </tr>\n",
       "  </tbody>\n",
       "</table>\n",
       "<p>10 rows × 231 columns</p>\n",
       "</div>"
      ],
      "text/plain": [
       "   PATIENT_VISIT_IDENTIFIER  AGE_ABOVE65 AGE_PERCENTIL  GENDER  \\\n",
       "0                         0            1          60th       0   \n",
       "1                         0            1          60th       0   \n",
       "2                         0            1          60th       0   \n",
       "3                         0            1          60th       0   \n",
       "4                         0            1          60th       0   \n",
       "5                         1            1          90th       1   \n",
       "6                         1            1          90th       1   \n",
       "7                         1            1          90th       1   \n",
       "8                         1            1          90th       1   \n",
       "9                         1            1          90th       1   \n",
       "\n",
       "   DISEASE GROUPING 1  DISEASE GROUPING 2  DISEASE GROUPING 3  \\\n",
       "0                 0.0                 0.0                 0.0   \n",
       "1                 0.0                 0.0                 0.0   \n",
       "2                 0.0                 0.0                 0.0   \n",
       "3                 0.0                 0.0                 0.0   \n",
       "4                 0.0                 0.0                 0.0   \n",
       "5                 0.0                 0.0                 0.0   \n",
       "6                 0.0                 0.0                 0.0   \n",
       "7                 0.0                 0.0                 0.0   \n",
       "8                 0.0                 0.0                 0.0   \n",
       "9                 0.0                 0.0                 0.0   \n",
       "\n",
       "   DISEASE GROUPING 4  DISEASE GROUPING 5  DISEASE GROUPING 6  ...  \\\n",
       "0                 0.0                 1.0                 1.0  ...   \n",
       "1                 0.0                 1.0                 1.0  ...   \n",
       "2                 0.0                 1.0                 1.0  ...   \n",
       "3                 0.0                 1.0                 1.0  ...   \n",
       "4                 0.0                 1.0                 1.0  ...   \n",
       "5                 0.0                 0.0                 0.0  ...   \n",
       "6                 0.0                 0.0                 0.0  ...   \n",
       "7                 0.0                 0.0                 0.0  ...   \n",
       "8                 0.0                 0.0                 0.0  ...   \n",
       "9                 0.0                 1.0                 0.0  ...   \n",
       "\n",
       "   TEMPERATURE_DIFF  OXYGEN_SATURATION_DIFF  BLOODPRESSURE_DIASTOLIC_DIFF_REL  \\\n",
       "0         -1.000000               -1.000000                         -1.000000   \n",
       "1         -1.000000               -1.000000                         -1.000000   \n",
       "2               NaN                     NaN                               NaN   \n",
       "3         -1.000000               -1.000000                               NaN   \n",
       "4         -0.238095               -0.818182                         -0.389967   \n",
       "5         -1.000000               -1.000000                         -1.000000   \n",
       "6         -1.000000               -1.000000                         -1.000000   \n",
       "7         -1.000000               -1.000000                         -1.000000   \n",
       "8         -0.880952               -1.000000                         -0.906832   \n",
       "9          0.142857               -0.797980                          0.315690   \n",
       "\n",
       "   BLOODPRESSURE_SISTOLIC_DIFF_REL  HEART_RATE_DIFF_REL  \\\n",
       "0                        -1.000000            -1.000000   \n",
       "1                        -1.000000            -1.000000   \n",
       "2                              NaN                  NaN   \n",
       "3                              NaN                  NaN   \n",
       "4                         0.407558            -0.230462   \n",
       "5                        -1.000000            -1.000000   \n",
       "6                        -1.000000            -1.000000   \n",
       "7                        -1.000000            -1.000000   \n",
       "8                        -0.831132            -0.940967   \n",
       "9                         0.200359            -0.239515   \n",
       "\n",
       "   RESPIRATORY_RATE_DIFF_REL  TEMPERATURE_DIFF_REL  \\\n",
       "0                  -1.000000             -1.000000   \n",
       "1                  -1.000000             -1.000000   \n",
       "2                        NaN                   NaN   \n",
       "3                        NaN             -1.000000   \n",
       "4                   0.096774             -0.242282   \n",
       "5                  -1.000000             -1.000000   \n",
       "6                  -1.000000             -1.000000   \n",
       "7                  -1.000000             -1.000000   \n",
       "8                  -0.817204             -0.882574   \n",
       "9                   0.645161              0.139709   \n",
       "\n",
       "   OXYGEN_SATURATION_DIFF_REL    WINDOW  ICU  \n",
       "0                   -1.000000       0-2    0  \n",
       "1                   -1.000000       2-4    0  \n",
       "2                         NaN       4-6    0  \n",
       "3                   -1.000000      6-12    0  \n",
       "4                   -0.814433  ABOVE_12    1  \n",
       "5                   -1.000000       0-2    1  \n",
       "6                   -1.000000       2-4    1  \n",
       "7                   -1.000000       4-6    1  \n",
       "8                   -1.000000      6-12    1  \n",
       "9                   -0.802317  ABOVE_12    1  \n",
       "\n",
       "[10 rows x 231 columns]"
      ]
     },
     "execution_count": 69,
     "metadata": {},
     "output_type": "execute_result"
    }
   ],
   "source": [
    "#### Data Analysis\n",
    "# loading data\n",
    "data = pd.read_excel(\"C:/Ass/Kaggle_Sirio_Libanes_ICU_Prediction.xlsx\")\n",
    "data.head(10)"
   ]
  },
  {
   "cell_type": "code",
   "execution_count": 70,
   "metadata": {
    "execution": {
     "iopub.execute_input": "2022-04-01T00:36:30.961904Z",
     "iopub.status.busy": "2022-04-01T00:36:30.961604Z",
     "iopub.status.idle": "2022-04-01T00:36:30.991232Z",
     "shell.execute_reply": "2022-04-01T00:36:30.989897Z",
     "shell.execute_reply.started": "2022-04-01T00:36:30.961869Z"
    }
   },
   "outputs": [
    {
     "name": "stdout",
     "output_type": "stream",
     "text": [
      "Data content types:\n",
      "<class 'pandas.core.frame.DataFrame'>\n",
      "RangeIndex: 1925 entries, 0 to 1924\n",
      "Columns: 231 entries, PATIENT_VISIT_IDENTIFIER to ICU\n",
      "dtypes: float64(225), int64(4), object(2)\n",
      "memory usage: 3.4+ MB\n"
     ]
    }
   ],
   "source": [
    "# verify data content type\n",
    "print('Data content:')\n",
    "data.info()"
   ]
  },
  {
   "cell_type": "code",
   "execution_count": 71,
   "metadata": {
    "execution": {
     "iopub.execute_input": "2022-04-01T00:36:30.993234Z",
     "iopub.status.busy": "2022-04-01T00:36:30.992869Z",
     "iopub.status.idle": "2022-04-01T00:36:31.005003Z",
     "shell.execute_reply": "2022-04-01T00:36:31.003883Z",
     "shell.execute_reply.started": "2022-04-01T00:36:30.993202Z"
    }
   },
   "outputs": [
    {
     "name": "stdout",
     "output_type": "stream",
     "text": [
      "Columns with dtype equals to \"object\"\n"
     ]
    },
    {
     "data": {
      "text/plain": [
       "Index(['AGE_PERCENTIL', 'WINDOW'], dtype='object')"
      ]
     },
     "execution_count": 71,
     "metadata": {},
     "output_type": "execute_result"
    }
   ],
   "source": [
    "# Check object columns\n",
    "print('Columns dtype equals to \"object\"')\n",
    "data.select_dtypes(include='object').columns"
   ]
  },
  {
   "cell_type": "markdown",
   "metadata": {},
   "source": [
    "#### In the results of the initial investigation, only 2 columns were identified as objects. It is advised to convert them to numerical data in order to prevent any numerical difficulties "
   ]
  },
  {
   "cell_type": "code",
   "execution_count": 72,
   "metadata": {
    "execution": {
     "iopub.execute_input": "2022-04-01T00:36:31.008906Z",
     "iopub.status.busy": "2022-04-01T00:36:31.008204Z",
     "iopub.status.idle": "2022-04-01T00:36:31.030555Z",
     "shell.execute_reply": "2022-04-01T00:36:31.02917Z",
     "shell.execute_reply.started": "2022-04-01T00:36:31.008857Z"
    }
   },
   "outputs": [
    {
     "data": {
      "text/plain": [
       "{'10th': 10,\n",
       " '20th': 20,\n",
       " '30th': 30,\n",
       " '40th': 40,\n",
       " '50th': 50,\n",
       " '60th': 60,\n",
       " '70th': 70,\n",
       " '80th': 80,\n",
       " '90th': 90,\n",
       " 'Above 90th': 100}"
      ]
     },
     "execution_count": 72,
     "metadata": {},
     "output_type": "execute_result"
    }
   ],
   "source": [
    "# create a dictionary to map AGE_PERCENTIL\n",
    "keys = data.AGE_PERCENTIL.sort_values().unique()\n",
    "vals = np.arange(10,110,10)\n",
    "# montar dicionário\n",
    "ages = dict(zip(keys,vals))\n",
    "ages"
   ]
  },
  {
   "cell_type": "code",
   "execution_count": 73,
   "metadata": {
    "execution": {
     "iopub.execute_input": "2022-04-01T00:36:31.032392Z",
     "iopub.status.busy": "2022-04-01T00:36:31.032072Z",
     "iopub.status.idle": "2022-04-01T00:36:31.043787Z",
     "shell.execute_reply": "2022-04-01T00:36:31.042483Z",
     "shell.execute_reply.started": "2022-04-01T00:36:31.032363Z"
    }
   },
   "outputs": [
    {
     "data": {
      "text/plain": [
       "0       60\n",
       "1       60\n",
       "2       60\n",
       "3       60\n",
       "4       60\n",
       "        ..\n",
       "1920    50\n",
       "1921    50\n",
       "1922    50\n",
       "1923    50\n",
       "1924    50\n",
       "Name: AGE_PERCENTIL, Length: 1925, dtype: int64"
      ]
     },
     "execution_count": 73,
     "metadata": {},
     "output_type": "execute_result"
    }
   ],
   "source": [
    "# replacing AGE_PERCENTIL data to numerical data\n",
    "data.AGE_PERCENTIL = data.AGE_PERCENTIL.map(ages)\n",
    "data.AGE_PERCENTIL"
   ]
  },
  {
   "cell_type": "code",
   "execution_count": 74,
   "metadata": {
    "execution": {
     "iopub.execute_input": "2022-04-01T00:36:31.046097Z",
     "iopub.status.busy": "2022-04-01T00:36:31.04563Z",
     "iopub.status.idle": "2022-04-01T00:36:31.062544Z",
     "shell.execute_reply": "2022-04-01T00:36:31.061091Z",
     "shell.execute_reply.started": "2022-04-01T00:36:31.046052Z"
    }
   },
   "outputs": [
    {
     "data": {
      "text/plain": [
       "{'0-2': 0, '2-4': 1, '4-6': 2, '6-12': 3, 'ABOVE_12': 4}"
      ]
     },
     "execution_count": 74,
     "metadata": {},
     "output_type": "execute_result"
    }
   ],
   "source": [
    "# create a dictionary to map WINDOW\n",
    "keys = data.WINDOW.sort_values().unique()\n",
    "vals = np.arange(5)\n",
    "# montar dicionário\n",
    "window = dict(zip(keys,vals))\n",
    "window"
   ]
  },
  {
   "cell_type": "code",
   "execution_count": 75,
   "metadata": {
    "execution": {
     "iopub.execute_input": "2022-04-01T00:36:31.067114Z",
     "iopub.status.busy": "2022-04-01T00:36:31.066675Z",
     "iopub.status.idle": "2022-04-01T00:36:31.077827Z",
     "shell.execute_reply": "2022-04-01T00:36:31.076624Z",
     "shell.execute_reply.started": "2022-04-01T00:36:31.067077Z"
    }
   },
   "outputs": [
    {
     "data": {
      "text/plain": [
       "0       0\n",
       "1       1\n",
       "2       2\n",
       "3       3\n",
       "4       4\n",
       "       ..\n",
       "1920    0\n",
       "1921    1\n",
       "1922    2\n",
       "1923    3\n",
       "1924    4\n",
       "Name: WINDOW, Length: 1925, dtype: int64"
      ]
     },
     "execution_count": 75,
     "metadata": {},
     "output_type": "execute_result"
    }
   ],
   "source": [
    "# replacing WINDOW data to numerical data\n",
    "data.WINDOW = data.WINDOW.map(window)\n",
    "data.WINDOW"
   ]
  },
  {
   "cell_type": "markdown",
   "metadata": {},
   "source": [
    "With part of the data cleaning concluded, it is necessary to check if it exists any missing data on this data frame."
   ]
  },
  {
   "cell_type": "code",
   "execution_count": 76,
   "metadata": {
    "execution": {
     "iopub.execute_input": "2022-04-01T00:36:31.079686Z",
     "iopub.status.busy": "2022-04-01T00:36:31.079241Z",
     "iopub.status.idle": "2022-04-01T00:36:32.054181Z",
     "shell.execute_reply": "2022-04-01T00:36:32.05294Z",
     "shell.execute_reply.started": "2022-04-01T00:36:31.079644Z"
    }
   },
   "outputs": [
    {
     "data": {
      "text/plain": [
       "Text(0.5, 1.0, 'Missing Data Matrix')"
      ]
     },
     "execution_count": 76,
     "metadata": {},
     "output_type": "execute_result"
    },
    {
     "data": {
      "image/png": "[encoded data removed]",
      "text/plain": [
       "<Figure size 1800x720 with 2 Axes>"
      ]
     },
     "metadata": {},
     "output_type": "display_data"
    }
   ],
   "source": [
    "ax = msno.matrix(data)\n",
    "ax.set_title('Missing Data Matrix', fontsize=30)"
   ]
  },
  {
   "cell_type": "markdown",
   "metadata": {},
   "source": [
    "#### The graphic above illustrates how many data points are missing from the Sri Lankan COVID data. A data preparation stage was performed in order to repair it."
   ]
  },
  {
   "cell_type": "code",
   "execution_count": 77,
   "metadata": {
    "execution": {
     "iopub.execute_input": "2022-04-01T00:36:32.05649Z",
     "iopub.status.busy": "2022-04-01T00:36:32.056029Z",
     "iopub.status.idle": "2022-04-01T00:36:32.063911Z",
     "shell.execute_reply": "2022-04-01T00:36:32.062878Z",
     "shell.execute_reply.started": "2022-04-01T00:36:32.056445Z"
    }
   },
   "outputs": [],
   "source": [
    "def fix_tabel(data):\n",
    "    cont_features_cols = data.iloc[:,13:-2].columns\n",
    "    cont_features = data.groupby('PATIENT_VISIT_IDENTIFIER', as_index=False)[cont_features_cols].fillna(method='bfill').fillna(method='ffill')\n",
    "    cat_features  = data.iloc[:,:13]\n",
    "    output = data.iloc[:,-2:]\n",
    "    data_final = pd.concat([cat_features,cont_features, output], ignore_index = True, axis=1)\n",
    "    data_final.columns = data.columns\n",
    "    return data_final\n",
    "    "
   ]
  },
  {
   "cell_type": "code",
   "execution_count": 78,
   "metadata": {
    "execution": {
     "iopub.execute_input": "2022-04-01T00:36:32.06542Z",
     "iopub.status.busy": "2022-04-01T00:36:32.0651Z",
     "iopub.status.idle": "2022-04-01T00:36:32.279418Z",
     "shell.execute_reply": "2022-04-01T00:36:32.278283Z",
     "shell.execute_reply.started": "2022-04-01T00:36:32.06539Z"
    }
   },
   "outputs": [
    {
     "data": {
      "text/html": [
       "<div>\n",
       "<style scoped>\n",
       "    .dataframe tbody tr th:only-of-type {\n",
       "        vertical-align: middle;\n",
       "    }\n",
       "\n",
       "    .dataframe tbody tr th {\n",
       "        vertical-align: top;\n",
       "    }\n",
       "\n",
       "    .dataframe thead th {\n",
       "        text-align: right;\n",
       "    }\n",
       "</style>\n",
       "<table border=\"1\" class=\"dataframe\">\n",
       "  <thead>\n",
       "    <tr style=\"text-align: right;\">\n",
       "      <th></th>\n",
       "      <th>PATIENT_VISIT_IDENTIFIER</th>\n",
       "      <th>AGE_ABOVE65</th>\n",
       "      <th>AGE_PERCENTIL</th>\n",
       "      <th>GENDER</th>\n",
       "      <th>DISEASE GROUPING 1</th>\n",
       "      <th>DISEASE GROUPING 2</th>\n",
       "      <th>DISEASE GROUPING 3</th>\n",
       "      <th>DISEASE GROUPING 4</th>\n",
       "      <th>DISEASE GROUPING 5</th>\n",
       "      <th>DISEASE GROUPING 6</th>\n",
       "      <th>...</th>\n",
       "      <th>TEMPERATURE_DIFF</th>\n",
       "      <th>OXYGEN_SATURATION_DIFF</th>\n",
       "      <th>BLOODPRESSURE_DIASTOLIC_DIFF_REL</th>\n",
       "      <th>BLOODPRESSURE_SISTOLIC_DIFF_REL</th>\n",
       "      <th>HEART_RATE_DIFF_REL</th>\n",
       "      <th>RESPIRATORY_RATE_DIFF_REL</th>\n",
       "      <th>TEMPERATURE_DIFF_REL</th>\n",
       "      <th>OXYGEN_SATURATION_DIFF_REL</th>\n",
       "      <th>WINDOW</th>\n",
       "      <th>ICU</th>\n",
       "    </tr>\n",
       "  </thead>\n",
       "  <tbody>\n",
       "    <tr>\n",
       "      <th>0</th>\n",
       "      <td>0</td>\n",
       "      <td>1</td>\n",
       "      <td>60</td>\n",
       "      <td>0</td>\n",
       "      <td>0.0</td>\n",
       "      <td>0.0</td>\n",
       "      <td>0.0</td>\n",
       "      <td>0.0</td>\n",
       "      <td>1.0</td>\n",
       "      <td>1.0</td>\n",
       "      <td>...</td>\n",
       "      <td>-1.000000</td>\n",
       "      <td>-1.000000</td>\n",
       "      <td>-1.000000</td>\n",
       "      <td>-1.000000</td>\n",
       "      <td>-1.000000</td>\n",
       "      <td>-1.000000</td>\n",
       "      <td>-1.000000</td>\n",
       "      <td>-1.000000</td>\n",
       "      <td>0</td>\n",
       "      <td>0</td>\n",
       "    </tr>\n",
       "    <tr>\n",
       "      <th>1</th>\n",
       "      <td>0</td>\n",
       "      <td>1</td>\n",
       "      <td>60</td>\n",
       "      <td>0</td>\n",
       "      <td>0.0</td>\n",
       "      <td>0.0</td>\n",
       "      <td>0.0</td>\n",
       "      <td>0.0</td>\n",
       "      <td>1.0</td>\n",
       "      <td>1.0</td>\n",
       "      <td>...</td>\n",
       "      <td>-1.000000</td>\n",
       "      <td>-1.000000</td>\n",
       "      <td>-1.000000</td>\n",
       "      <td>-1.000000</td>\n",
       "      <td>-1.000000</td>\n",
       "      <td>-1.000000</td>\n",
       "      <td>-1.000000</td>\n",
       "      <td>-1.000000</td>\n",
       "      <td>1</td>\n",
       "      <td>0</td>\n",
       "    </tr>\n",
       "    <tr>\n",
       "      <th>2</th>\n",
       "      <td>0</td>\n",
       "      <td>1</td>\n",
       "      <td>60</td>\n",
       "      <td>0</td>\n",
       "      <td>0.0</td>\n",
       "      <td>0.0</td>\n",
       "      <td>0.0</td>\n",
       "      <td>0.0</td>\n",
       "      <td>1.0</td>\n",
       "      <td>1.0</td>\n",
       "      <td>...</td>\n",
       "      <td>-1.000000</td>\n",
       "      <td>-1.000000</td>\n",
       "      <td>-0.389967</td>\n",
       "      <td>0.407558</td>\n",
       "      <td>-0.230462</td>\n",
       "      <td>0.096774</td>\n",
       "      <td>-1.000000</td>\n",
       "      <td>-1.000000</td>\n",
       "      <td>2</td>\n",
       "      <td>0</td>\n",
       "    </tr>\n",
       "    <tr>\n",
       "      <th>3</th>\n",
       "      <td>0</td>\n",
       "      <td>1</td>\n",
       "      <td>60</td>\n",
       "      <td>0</td>\n",
       "      <td>0.0</td>\n",
       "      <td>0.0</td>\n",
       "      <td>0.0</td>\n",
       "      <td>0.0</td>\n",
       "      <td>1.0</td>\n",
       "      <td>1.0</td>\n",
       "      <td>...</td>\n",
       "      <td>-1.000000</td>\n",
       "      <td>-1.000000</td>\n",
       "      <td>-0.389967</td>\n",
       "      <td>0.407558</td>\n",
       "      <td>-0.230462</td>\n",
       "      <td>0.096774</td>\n",
       "      <td>-1.000000</td>\n",
       "      <td>-1.000000</td>\n",
       "      <td>3</td>\n",
       "      <td>0</td>\n",
       "    </tr>\n",
       "    <tr>\n",
       "      <th>4</th>\n",
       "      <td>0</td>\n",
       "      <td>1</td>\n",
       "      <td>60</td>\n",
       "      <td>0</td>\n",
       "      <td>0.0</td>\n",
       "      <td>0.0</td>\n",
       "      <td>0.0</td>\n",
       "      <td>0.0</td>\n",
       "      <td>1.0</td>\n",
       "      <td>1.0</td>\n",
       "      <td>...</td>\n",
       "      <td>-0.238095</td>\n",
       "      <td>-0.818182</td>\n",
       "      <td>-0.389967</td>\n",
       "      <td>0.407558</td>\n",
       "      <td>-0.230462</td>\n",
       "      <td>0.096774</td>\n",
       "      <td>-0.242282</td>\n",
       "      <td>-0.814433</td>\n",
       "      <td>4</td>\n",
       "      <td>1</td>\n",
       "    </tr>\n",
       "  </tbody>\n",
       "</table>\n",
       "<p>5 rows × 231 columns</p>\n",
       "</div>"
      ],
      "text/plain": [
       "   PATIENT_VISIT_IDENTIFIER  AGE_ABOVE65  AGE_PERCENTIL  GENDER  \\\n",
       "0                         0            1             60       0   \n",
       "1                         0            1             60       0   \n",
       "2                         0            1             60       0   \n",
       "3                         0            1             60       0   \n",
       "4                         0            1             60       0   \n",
       "\n",
       "   DISEASE GROUPING 1  DISEASE GROUPING 2  DISEASE GROUPING 3  \\\n",
       "0                 0.0                 0.0                 0.0   \n",
       "1                 0.0                 0.0                 0.0   \n",
       "2                 0.0                 0.0                 0.0   \n",
       "3                 0.0                 0.0                 0.0   \n",
       "4                 0.0                 0.0                 0.0   \n",
       "\n",
       "   DISEASE GROUPING 4  DISEASE GROUPING 5  DISEASE GROUPING 6  ...  \\\n",
       "0                 0.0                 1.0                 1.0  ...   \n",
       "1                 0.0                 1.0                 1.0  ...   \n",
       "2                 0.0                 1.0                 1.0  ...   \n",
       "3                 0.0                 1.0                 1.0  ...   \n",
       "4                 0.0                 1.0                 1.0  ...   \n",
       "\n",
       "   TEMPERATURE_DIFF  OXYGEN_SATURATION_DIFF  BLOODPRESSURE_DIASTOLIC_DIFF_REL  \\\n",
       "0         -1.000000               -1.000000                         -1.000000   \n",
       "1         -1.000000               -1.000000                         -1.000000   \n",
       "2         -1.000000               -1.000000                         -0.389967   \n",
       "3         -1.000000               -1.000000                         -0.389967   \n",
       "4         -0.238095               -0.818182                         -0.389967   \n",
       "\n",
       "   BLOODPRESSURE_SISTOLIC_DIFF_REL  HEART_RATE_DIFF_REL  \\\n",
       "0                        -1.000000            -1.000000   \n",
       "1                        -1.000000            -1.000000   \n",
       "2                         0.407558            -0.230462   \n",
       "3                         0.407558            -0.230462   \n",
       "4                         0.407558            -0.230462   \n",
       "\n",
       "   RESPIRATORY_RATE_DIFF_REL  TEMPERATURE_DIFF_REL  \\\n",
       "0                  -1.000000             -1.000000   \n",
       "1                  -1.000000             -1.000000   \n",
       "2                   0.096774             -1.000000   \n",
       "3                   0.096774             -1.000000   \n",
       "4                   0.096774             -0.242282   \n",
       "\n",
       "   OXYGEN_SATURATION_DIFF_REL  WINDOW  ICU  \n",
       "0                   -1.000000       0    0  \n",
       "1                   -1.000000       1    0  \n",
       "2                   -1.000000       2    0  \n",
       "3                   -1.000000       3    0  \n",
       "4                   -0.814433       4    1  \n",
       "\n",
       "[5 rows x 231 columns]"
      ]
     },
     "execution_count": 78,
     "metadata": {},
     "output_type": "execute_result"
    }
   ],
   "source": [
    "data_clean = fix_tabel(data)\n",
    "data_clean.head()"
   ]
  },
  {
   "cell_type": "code",
   "execution_count": 79,
   "metadata": {
    "execution": {
     "iopub.execute_input": "2022-04-01T00:36:32.281765Z",
     "iopub.status.busy": "2022-04-01T00:36:32.281036Z",
     "iopub.status.idle": "2022-04-01T00:36:32.829124Z",
     "shell.execute_reply": "2022-04-01T00:36:32.828033Z",
     "shell.execute_reply.started": "2022-04-01T00:36:32.281719Z"
    }
   },
   "outputs": [
    {
     "data": {
      "text/html": [
       "<div>\n",
       "<style scoped>\n",
       "    .dataframe tbody tr th:only-of-type {\n",
       "        vertical-align: middle;\n",
       "    }\n",
       "\n",
       "    .dataframe tbody tr th {\n",
       "        vertical-align: top;\n",
       "    }\n",
       "\n",
       "    .dataframe thead th {\n",
       "        text-align: right;\n",
       "    }\n",
       "</style>\n",
       "<table border=\"1\" class=\"dataframe\">\n",
       "  <thead>\n",
       "    <tr style=\"text-align: right;\">\n",
       "      <th></th>\n",
       "      <th>PATIENT_VISIT_IDENTIFIER</th>\n",
       "      <th>AGE_ABOVE65</th>\n",
       "      <th>AGE_PERCENTIL</th>\n",
       "      <th>GENDER</th>\n",
       "      <th>DISEASE GROUPING 1</th>\n",
       "      <th>DISEASE GROUPING 2</th>\n",
       "      <th>DISEASE GROUPING 3</th>\n",
       "      <th>DISEASE GROUPING 4</th>\n",
       "      <th>DISEASE GROUPING 5</th>\n",
       "      <th>DISEASE GROUPING 6</th>\n",
       "      <th>...</th>\n",
       "      <th>TEMPERATURE_DIFF</th>\n",
       "      <th>OXYGEN_SATURATION_DIFF</th>\n",
       "      <th>BLOODPRESSURE_DIASTOLIC_DIFF_REL</th>\n",
       "      <th>BLOODPRESSURE_SISTOLIC_DIFF_REL</th>\n",
       "      <th>HEART_RATE_DIFF_REL</th>\n",
       "      <th>RESPIRATORY_RATE_DIFF_REL</th>\n",
       "      <th>TEMPERATURE_DIFF_REL</th>\n",
       "      <th>OXYGEN_SATURATION_DIFF_REL</th>\n",
       "      <th>WINDOW</th>\n",
       "      <th>ICU</th>\n",
       "    </tr>\n",
       "  </thead>\n",
       "  <tbody>\n",
       "    <tr>\n",
       "      <th>count</th>\n",
       "      <td>1920.000000</td>\n",
       "      <td>1920.000000</td>\n",
       "      <td>1920.000000</td>\n",
       "      <td>1920.000000</td>\n",
       "      <td>1920.000000</td>\n",
       "      <td>1920.000000</td>\n",
       "      <td>1920.000000</td>\n",
       "      <td>1920.000000</td>\n",
       "      <td>1920.000000</td>\n",
       "      <td>1920.000000</td>\n",
       "      <td>...</td>\n",
       "      <td>1920.000000</td>\n",
       "      <td>1920.000000</td>\n",
       "      <td>1920.000000</td>\n",
       "      <td>1920.000000</td>\n",
       "      <td>1920.000000</td>\n",
       "      <td>1920.000000</td>\n",
       "      <td>1920.000000</td>\n",
       "      <td>1920.000000</td>\n",
       "      <td>1920.000000</td>\n",
       "      <td>1920.000000</td>\n",
       "    </tr>\n",
       "    <tr>\n",
       "      <th>mean</th>\n",
       "      <td>191.981771</td>\n",
       "      <td>0.468750</td>\n",
       "      <td>53.307292</td>\n",
       "      <td>0.369792</td>\n",
       "      <td>0.108333</td>\n",
       "      <td>0.028125</td>\n",
       "      <td>0.097917</td>\n",
       "      <td>0.019792</td>\n",
       "      <td>0.128125</td>\n",
       "      <td>0.046875</td>\n",
       "      <td>...</td>\n",
       "      <td>-0.812388</td>\n",
       "      <td>-0.910214</td>\n",
       "      <td>-0.818008</td>\n",
       "      <td>-0.759122</td>\n",
       "      <td>-0.848720</td>\n",
       "      <td>-0.771187</td>\n",
       "      <td>-0.813295</td>\n",
       "      <td>-0.910085</td>\n",
       "      <td>2.000000</td>\n",
       "      <td>0.268229</td>\n",
       "    </tr>\n",
       "    <tr>\n",
       "      <th>std</th>\n",
       "      <td>111.312587</td>\n",
       "      <td>0.499152</td>\n",
       "      <td>28.625802</td>\n",
       "      <td>0.482874</td>\n",
       "      <td>0.310882</td>\n",
       "      <td>0.165373</td>\n",
       "      <td>0.297279</td>\n",
       "      <td>0.139320</td>\n",
       "      <td>0.334316</td>\n",
       "      <td>0.211426</td>\n",
       "      <td>...</td>\n",
       "      <td>0.296775</td>\n",
       "      <td>0.255728</td>\n",
       "      <td>0.301726</td>\n",
       "      <td>0.389598</td>\n",
       "      <td>0.247117</td>\n",
       "      <td>0.401430</td>\n",
       "      <td>0.295619</td>\n",
       "      <td>0.256368</td>\n",
       "      <td>1.414582</td>\n",
       "      <td>0.443153</td>\n",
       "    </tr>\n",
       "    <tr>\n",
       "      <th>min</th>\n",
       "      <td>0.000000</td>\n",
       "      <td>0.000000</td>\n",
       "      <td>10.000000</td>\n",
       "      <td>0.000000</td>\n",
       "      <td>0.000000</td>\n",
       "      <td>0.000000</td>\n",
       "      <td>0.000000</td>\n",
       "      <td>0.000000</td>\n",
       "      <td>0.000000</td>\n",
       "      <td>0.000000</td>\n",
       "      <td>...</td>\n",
       "      <td>-1.000000</td>\n",
       "      <td>-1.000000</td>\n",
       "      <td>-1.000000</td>\n",
       "      <td>-1.000000</td>\n",
       "      <td>-1.000000</td>\n",
       "      <td>-1.000000</td>\n",
       "      <td>-1.000000</td>\n",
       "      <td>-1.000000</td>\n",
       "      <td>0.000000</td>\n",
       "      <td>0.000000</td>\n",
       "    </tr>\n",
       "    <tr>\n",
       "      <th>25%</th>\n",
       "      <td>95.750000</td>\n",
       "      <td>0.000000</td>\n",
       "      <td>30.000000</td>\n",
       "      <td>0.000000</td>\n",
       "      <td>0.000000</td>\n",
       "      <td>0.000000</td>\n",
       "      <td>0.000000</td>\n",
       "      <td>0.000000</td>\n",
       "      <td>0.000000</td>\n",
       "      <td>0.000000</td>\n",
       "      <td>...</td>\n",
       "      <td>-1.000000</td>\n",
       "      <td>-1.000000</td>\n",
       "      <td>-1.000000</td>\n",
       "      <td>-1.000000</td>\n",
       "      <td>-1.000000</td>\n",
       "      <td>-1.000000</td>\n",
       "      <td>-1.000000</td>\n",
       "      <td>-1.000000</td>\n",
       "      <td>1.000000</td>\n",
       "      <td>0.000000</td>\n",
       "    </tr>\n",
       "    <tr>\n",
       "      <th>50%</th>\n",
       "      <td>191.500000</td>\n",
       "      <td>0.000000</td>\n",
       "      <td>50.000000</td>\n",
       "      <td>0.000000</td>\n",
       "      <td>0.000000</td>\n",
       "      <td>0.000000</td>\n",
       "      <td>0.000000</td>\n",
       "      <td>0.000000</td>\n",
       "      <td>0.000000</td>\n",
       "      <td>0.000000</td>\n",
       "      <td>...</td>\n",
       "      <td>-1.000000</td>\n",
       "      <td>-1.000000</td>\n",
       "      <td>-1.000000</td>\n",
       "      <td>-1.000000</td>\n",
       "      <td>-1.000000</td>\n",
       "      <td>-1.000000</td>\n",
       "      <td>-1.000000</td>\n",
       "      <td>-1.000000</td>\n",
       "      <td>2.000000</td>\n",
       "      <td>0.000000</td>\n",
       "    </tr>\n",
       "    <tr>\n",
       "      <th>75%</th>\n",
       "      <td>288.250000</td>\n",
       "      <td>1.000000</td>\n",
       "      <td>80.000000</td>\n",
       "      <td>1.000000</td>\n",
       "      <td>0.000000</td>\n",
       "      <td>0.000000</td>\n",
       "      <td>0.000000</td>\n",
       "      <td>0.000000</td>\n",
       "      <td>0.000000</td>\n",
       "      <td>0.000000</td>\n",
       "      <td>...</td>\n",
       "      <td>-0.690476</td>\n",
       "      <td>-0.919192</td>\n",
       "      <td>-0.710805</td>\n",
       "      <td>-0.622483</td>\n",
       "      <td>-0.764487</td>\n",
       "      <td>-0.725806</td>\n",
       "      <td>-0.698390</td>\n",
       "      <td>-0.918403</td>\n",
       "      <td>3.000000</td>\n",
       "      <td>1.000000</td>\n",
       "    </tr>\n",
       "    <tr>\n",
       "      <th>max</th>\n",
       "      <td>384.000000</td>\n",
       "      <td>1.000000</td>\n",
       "      <td>100.000000</td>\n",
       "      <td>1.000000</td>\n",
       "      <td>1.000000</td>\n",
       "      <td>1.000000</td>\n",
       "      <td>1.000000</td>\n",
       "      <td>1.000000</td>\n",
       "      <td>1.000000</td>\n",
       "      <td>1.000000</td>\n",
       "      <td>...</td>\n",
       "      <td>1.000000</td>\n",
       "      <td>1.000000</td>\n",
       "      <td>1.000000</td>\n",
       "      <td>1.000000</td>\n",
       "      <td>1.000000</td>\n",
       "      <td>1.000000</td>\n",
       "      <td>1.000000</td>\n",
       "      <td>1.000000</td>\n",
       "      <td>4.000000</td>\n",
       "      <td>1.000000</td>\n",
       "    </tr>\n",
       "  </tbody>\n",
       "</table>\n",
       "<p>8 rows × 231 columns</p>\n",
       "</div>"
      ],
      "text/plain": [
       "       PATIENT_VISIT_IDENTIFIER  AGE_ABOVE65  AGE_PERCENTIL       GENDER  \\\n",
       "count               1920.000000  1920.000000    1920.000000  1920.000000   \n",
       "mean                 191.981771     0.468750      53.307292     0.369792   \n",
       "std                  111.312587     0.499152      28.625802     0.482874   \n",
       "min                    0.000000     0.000000      10.000000     0.000000   \n",
       "25%                   95.750000     0.000000      30.000000     0.000000   \n",
       "50%                  191.500000     0.000000      50.000000     0.000000   \n",
       "75%                  288.250000     1.000000      80.000000     1.000000   \n",
       "max                  384.000000     1.000000     100.000000     1.000000   \n",
       "\n",
       "       DISEASE GROUPING 1  DISEASE GROUPING 2  DISEASE GROUPING 3  \\\n",
       "count         1920.000000         1920.000000         1920.000000   \n",
       "mean             0.108333            0.028125            0.097917   \n",
       "std              0.310882            0.165373            0.297279   \n",
       "min              0.000000            0.000000            0.000000   \n",
       "25%              0.000000            0.000000            0.000000   \n",
       "50%              0.000000            0.000000            0.000000   \n",
       "75%              0.000000            0.000000            0.000000   \n",
       "max              1.000000            1.000000            1.000000   \n",
       "\n",
       "       DISEASE GROUPING 4  DISEASE GROUPING 5  DISEASE GROUPING 6  ...  \\\n",
       "count         1920.000000         1920.000000         1920.000000  ...   \n",
       "mean             0.019792            0.128125            0.046875  ...   \n",
       "std              0.139320            0.334316            0.211426  ...   \n",
       "min              0.000000            0.000000            0.000000  ...   \n",
       "25%              0.000000            0.000000            0.000000  ...   \n",
       "50%              0.000000            0.000000            0.000000  ...   \n",
       "75%              0.000000            0.000000            0.000000  ...   \n",
       "max              1.000000            1.000000            1.000000  ...   \n",
       "\n",
       "       TEMPERATURE_DIFF  OXYGEN_SATURATION_DIFF  \\\n",
       "count       1920.000000             1920.000000   \n",
       "mean          -0.812388               -0.910214   \n",
       "std            0.296775                0.255728   \n",
       "min           -1.000000               -1.000000   \n",
       "25%           -1.000000               -1.000000   \n",
       "50%           -1.000000               -1.000000   \n",
       "75%           -0.690476               -0.919192   \n",
       "max            1.000000                1.000000   \n",
       "\n",
       "       BLOODPRESSURE_DIASTOLIC_DIFF_REL  BLOODPRESSURE_SISTOLIC_DIFF_REL  \\\n",
       "count                       1920.000000                      1920.000000   \n",
       "mean                          -0.818008                        -0.759122   \n",
       "std                            0.301726                         0.389598   \n",
       "min                           -1.000000                        -1.000000   \n",
       "25%                           -1.000000                        -1.000000   \n",
       "50%                           -1.000000                        -1.000000   \n",
       "75%                           -0.710805                        -0.622483   \n",
       "max                            1.000000                         1.000000   \n",
       "\n",
       "       HEART_RATE_DIFF_REL  RESPIRATORY_RATE_DIFF_REL  TEMPERATURE_DIFF_REL  \\\n",
       "count          1920.000000                1920.000000           1920.000000   \n",
       "mean             -0.848720                  -0.771187             -0.813295   \n",
       "std               0.247117                   0.401430              0.295619   \n",
       "min              -1.000000                  -1.000000             -1.000000   \n",
       "25%              -1.000000                  -1.000000             -1.000000   \n",
       "50%              -1.000000                  -1.000000             -1.000000   \n",
       "75%              -0.764487                  -0.725806             -0.698390   \n",
       "max               1.000000                   1.000000              1.000000   \n",
       "\n",
       "       OXYGEN_SATURATION_DIFF_REL       WINDOW          ICU  \n",
       "count                 1920.000000  1920.000000  1920.000000  \n",
       "mean                    -0.910085     2.000000     0.268229  \n",
       "std                      0.256368     1.414582     0.443153  \n",
       "min                     -1.000000     0.000000     0.000000  \n",
       "25%                     -1.000000     1.000000     0.000000  \n",
       "50%                     -1.000000     2.000000     0.000000  \n",
       "75%                     -0.918403     3.000000     1.000000  \n",
       "max                      1.000000     4.000000     1.000000  \n",
       "\n",
       "[8 rows x 231 columns]"
      ]
     },
     "execution_count": 79,
     "metadata": {},
     "output_type": "execute_result"
    }
   ],
   "source": [
    "data_to_remove = data_clean.query('WINDOW == \"0-2\" and ICU ==1')['PATIENT_VISIT_IDENTIFIER'].values\n",
    "data_final = data_clean.query('PATIENT_VISIT_IDENTIFIER not in @data_to_remove')\n",
    "data_final = data_final.dropna()\n",
    "data_final.describe()"
   ]
  },
  {
   "cell_type": "markdown",
   "metadata": {},
   "source": [
    "## Feature choice"
   ]
  },
  {
   "cell_type": "markdown",
   "metadata": {},
   "source": [
    "It is possible to continue selecting the data for modeling once there are no more empty values in the dataframe.When modeling a problem, one important step is selecting features.The wrong variables could result in a bad model that produces undesirable outcomes.In order to guarantee a better model, a number of different procedures will be tested in this section."
   ]
  },
  {
   "cell_type": "markdown",
   "metadata": {},
   "source": [
    "### X and y\n",
    "\n",
    "At this section will be defined what will be the independent variables (**X**) and the dependent variable (**y**).As defined in the scope of the data presented by Sírio Libanês Hospital, the target value to be obtained is to define if a patient will be sent to ICU or not. Besides that, it is important to determine as soon as possible if the patient will demand ICU treatment.\n",
    "Using this premises, it is possible to specify that the column **ICU** is the problem dependent variable. Furthermore, the column **WINDOW** will work as a kind of filter to determine the amount of information that will be used on the study."
   ]
  },
  {
   "cell_type": "code",
   "execution_count": 80,
   "metadata": {
    "execution": {
     "iopub.execute_input": "2022-04-01T00:36:32.831086Z",
     "iopub.status.busy": "2022-04-01T00:36:32.830666Z",
     "iopub.status.idle": "2022-04-01T00:36:32.841649Z",
     "shell.execute_reply": "2022-04-01T00:36:32.838692Z",
     "shell.execute_reply.started": "2022-04-01T00:36:32.831051Z"
    }
   },
   "outputs": [],
   "source": [
    "# Define the initial variables\n",
    "X = data_final.drop(['ICU', 'WINDOW'], axis=1)\n",
    "y = data_final['ICU']"
   ]
  },
  {
   "cell_type": "markdown",
   "metadata": {},
   "source": [
    "### Correlation\n",
    "\n",
    "The feature selection by correlations is a traditional method where highly correlated parameters must not be used on modelling process. That separations is done because, from linear algebra, a system must be composed by linear independent variable.\n",
    "\n",
    "This way, reducing the linear dependency of the variables can lead to better predictive models."
   ]
  },
  {
   "cell_type": "code",
   "execution_count": 81,
   "metadata": {
    "execution": {
     "iopub.execute_input": "2022-04-01T00:36:32.844698Z",
     "iopub.status.busy": "2022-04-01T00:36:32.844192Z",
     "iopub.status.idle": "2022-04-01T00:36:33.165546Z",
     "shell.execute_reply": "2022-04-01T00:36:33.16442Z",
     "shell.execute_reply.started": "2022-04-01T00:36:32.844642Z"
    }
   },
   "outputs": [
    {
     "data": {
      "text/html": [
       "<div>\n",
       "<style scoped>\n",
       "    .dataframe tbody tr th:only-of-type {\n",
       "        vertical-align: middle;\n",
       "    }\n",
       "\n",
       "    .dataframe tbody tr th {\n",
       "        vertical-align: top;\n",
       "    }\n",
       "\n",
       "    .dataframe thead th {\n",
       "        text-align: right;\n",
       "    }\n",
       "</style>\n",
       "<table border=\"1\" class=\"dataframe\">\n",
       "  <thead>\n",
       "    <tr style=\"text-align: right;\">\n",
       "      <th></th>\n",
       "      <th>PATIENT_VISIT_IDENTIFIER</th>\n",
       "      <th>AGE_ABOVE65</th>\n",
       "      <th>AGE_PERCENTIL</th>\n",
       "      <th>GENDER</th>\n",
       "      <th>DISEASE GROUPING 1</th>\n",
       "      <th>DISEASE GROUPING 2</th>\n",
       "      <th>DISEASE GROUPING 3</th>\n",
       "      <th>DISEASE GROUPING 4</th>\n",
       "      <th>DISEASE GROUPING 5</th>\n",
       "      <th>DISEASE GROUPING 6</th>\n",
       "      <th>...</th>\n",
       "      <th>HEART_RATE_DIFF</th>\n",
       "      <th>RESPIRATORY_RATE_DIFF</th>\n",
       "      <th>TEMPERATURE_DIFF</th>\n",
       "      <th>OXYGEN_SATURATION_DIFF</th>\n",
       "      <th>BLOODPRESSURE_DIASTOLIC_DIFF_REL</th>\n",
       "      <th>BLOODPRESSURE_SISTOLIC_DIFF_REL</th>\n",
       "      <th>HEART_RATE_DIFF_REL</th>\n",
       "      <th>RESPIRATORY_RATE_DIFF_REL</th>\n",
       "      <th>TEMPERATURE_DIFF_REL</th>\n",
       "      <th>OXYGEN_SATURATION_DIFF_REL</th>\n",
       "    </tr>\n",
       "  </thead>\n",
       "  <tbody>\n",
       "    <tr>\n",
       "      <th>PATIENT_VISIT_IDENTIFIER</th>\n",
       "      <td>NaN</td>\n",
       "      <td>0.030609</td>\n",
       "      <td>0.020968</td>\n",
       "      <td>0.059944</td>\n",
       "      <td>0.076389</td>\n",
       "      <td>0.044868</td>\n",
       "      <td>0.041014</td>\n",
       "      <td>0.017013</td>\n",
       "      <td>0.009263</td>\n",
       "      <td>0.014407</td>\n",
       "      <td>...</td>\n",
       "      <td>0.030928</td>\n",
       "      <td>0.025182</td>\n",
       "      <td>0.004614</td>\n",
       "      <td>0.038469</td>\n",
       "      <td>0.016150</td>\n",
       "      <td>0.032159</td>\n",
       "      <td>0.042087</td>\n",
       "      <td>0.022280</td>\n",
       "      <td>0.005033</td>\n",
       "      <td>0.038483</td>\n",
       "    </tr>\n",
       "    <tr>\n",
       "      <th>AGE_ABOVE65</th>\n",
       "      <td>NaN</td>\n",
       "      <td>NaN</td>\n",
       "      <td>0.868837</td>\n",
       "      <td>0.047970</td>\n",
       "      <td>0.266971</td>\n",
       "      <td>0.067469</td>\n",
       "      <td>0.157591</td>\n",
       "      <td>0.016392</td>\n",
       "      <td>0.305052</td>\n",
       "      <td>0.015739</td>\n",
       "      <td>...</td>\n",
       "      <td>0.049166</td>\n",
       "      <td>0.136207</td>\n",
       "      <td>0.086543</td>\n",
       "      <td>0.097715</td>\n",
       "      <td>0.127839</td>\n",
       "      <td>0.137949</td>\n",
       "      <td>0.062639</td>\n",
       "      <td>0.131803</td>\n",
       "      <td>0.087487</td>\n",
       "      <td>0.098776</td>\n",
       "    </tr>\n",
       "    <tr>\n",
       "      <th>AGE_PERCENTIL</th>\n",
       "      <td>NaN</td>\n",
       "      <td>NaN</td>\n",
       "      <td>NaN</td>\n",
       "      <td>0.071697</td>\n",
       "      <td>0.297001</td>\n",
       "      <td>0.076109</td>\n",
       "      <td>0.131548</td>\n",
       "      <td>0.003178</td>\n",
       "      <td>0.333592</td>\n",
       "      <td>0.054903</td>\n",
       "      <td>...</td>\n",
       "      <td>0.032571</td>\n",
       "      <td>0.128009</td>\n",
       "      <td>0.084260</td>\n",
       "      <td>0.084884</td>\n",
       "      <td>0.124197</td>\n",
       "      <td>0.131590</td>\n",
       "      <td>0.040479</td>\n",
       "      <td>0.120657</td>\n",
       "      <td>0.085545</td>\n",
       "      <td>0.085933</td>\n",
       "    </tr>\n",
       "    <tr>\n",
       "      <th>GENDER</th>\n",
       "      <td>NaN</td>\n",
       "      <td>NaN</td>\n",
       "      <td>NaN</td>\n",
       "      <td>NaN</td>\n",
       "      <td>0.038474</td>\n",
       "      <td>0.032425</td>\n",
       "      <td>0.074494</td>\n",
       "      <td>0.054625</td>\n",
       "      <td>0.022495</td>\n",
       "      <td>0.016748</td>\n",
       "      <td>...</td>\n",
       "      <td>0.029587</td>\n",
       "      <td>0.021981</td>\n",
       "      <td>0.051045</td>\n",
       "      <td>0.027600</td>\n",
       "      <td>0.001085</td>\n",
       "      <td>0.000061</td>\n",
       "      <td>0.033932</td>\n",
       "      <td>0.020747</td>\n",
       "      <td>0.050511</td>\n",
       "      <td>0.027661</td>\n",
       "    </tr>\n",
       "    <tr>\n",
       "      <th>DISEASE GROUPING 1</th>\n",
       "      <td>NaN</td>\n",
       "      <td>NaN</td>\n",
       "      <td>NaN</td>\n",
       "      <td>NaN</td>\n",
       "      <td>NaN</td>\n",
       "      <td>0.194104</td>\n",
       "      <td>0.240389</td>\n",
       "      <td>0.010628</td>\n",
       "      <td>0.332670</td>\n",
       "      <td>0.168473</td>\n",
       "      <td>...</td>\n",
       "      <td>0.089166</td>\n",
       "      <td>0.072729</td>\n",
       "      <td>0.076118</td>\n",
       "      <td>0.015832</td>\n",
       "      <td>0.083740</td>\n",
       "      <td>0.091792</td>\n",
       "      <td>0.085687</td>\n",
       "      <td>0.067931</td>\n",
       "      <td>0.077617</td>\n",
       "      <td>0.015710</td>\n",
       "    </tr>\n",
       "    <tr>\n",
       "      <th>...</th>\n",
       "      <td>...</td>\n",
       "      <td>...</td>\n",
       "      <td>...</td>\n",
       "      <td>...</td>\n",
       "      <td>...</td>\n",
       "      <td>...</td>\n",
       "      <td>...</td>\n",
       "      <td>...</td>\n",
       "      <td>...</td>\n",
       "      <td>...</td>\n",
       "      <td>...</td>\n",
       "      <td>...</td>\n",
       "      <td>...</td>\n",
       "      <td>...</td>\n",
       "      <td>...</td>\n",
       "      <td>...</td>\n",
       "      <td>...</td>\n",
       "      <td>...</td>\n",
       "      <td>...</td>\n",
       "      <td>...</td>\n",
       "      <td>...</td>\n",
       "    </tr>\n",
       "    <tr>\n",
       "      <th>BLOODPRESSURE_SISTOLIC_DIFF_REL</th>\n",
       "      <td>NaN</td>\n",
       "      <td>NaN</td>\n",
       "      <td>NaN</td>\n",
       "      <td>NaN</td>\n",
       "      <td>NaN</td>\n",
       "      <td>NaN</td>\n",
       "      <td>NaN</td>\n",
       "      <td>NaN</td>\n",
       "      <td>NaN</td>\n",
       "      <td>NaN</td>\n",
       "      <td>...</td>\n",
       "      <td>NaN</td>\n",
       "      <td>NaN</td>\n",
       "      <td>NaN</td>\n",
       "      <td>NaN</td>\n",
       "      <td>NaN</td>\n",
       "      <td>NaN</td>\n",
       "      <td>0.830502</td>\n",
       "      <td>0.815669</td>\n",
       "      <td>0.825771</td>\n",
       "      <td>0.570788</td>\n",
       "    </tr>\n",
       "    <tr>\n",
       "      <th>HEART_RATE_DIFF_REL</th>\n",
       "      <td>NaN</td>\n",
       "      <td>NaN</td>\n",
       "      <td>NaN</td>\n",
       "      <td>NaN</td>\n",
       "      <td>NaN</td>\n",
       "      <td>NaN</td>\n",
       "      <td>NaN</td>\n",
       "      <td>NaN</td>\n",
       "      <td>NaN</td>\n",
       "      <td>NaN</td>\n",
       "      <td>...</td>\n",
       "      <td>NaN</td>\n",
       "      <td>NaN</td>\n",
       "      <td>NaN</td>\n",
       "      <td>NaN</td>\n",
       "      <td>NaN</td>\n",
       "      <td>NaN</td>\n",
       "      <td>NaN</td>\n",
       "      <td>0.777771</td>\n",
       "      <td>0.820578</td>\n",
       "      <td>0.541169</td>\n",
       "    </tr>\n",
       "    <tr>\n",
       "      <th>RESPIRATORY_RATE_DIFF_REL</th>\n",
       "      <td>NaN</td>\n",
       "      <td>NaN</td>\n",
       "      <td>NaN</td>\n",
       "      <td>NaN</td>\n",
       "      <td>NaN</td>\n",
       "      <td>NaN</td>\n",
       "      <td>NaN</td>\n",
       "      <td>NaN</td>\n",
       "      <td>NaN</td>\n",
       "      <td>NaN</td>\n",
       "      <td>...</td>\n",
       "      <td>NaN</td>\n",
       "      <td>NaN</td>\n",
       "      <td>NaN</td>\n",
       "      <td>NaN</td>\n",
       "      <td>NaN</td>\n",
       "      <td>NaN</td>\n",
       "      <td>NaN</td>\n",
       "      <td>NaN</td>\n",
       "      <td>0.769361</td>\n",
       "      <td>0.548191</td>\n",
       "    </tr>\n",
       "    <tr>\n",
       "      <th>TEMPERATURE_DIFF_REL</th>\n",
       "      <td>NaN</td>\n",
       "      <td>NaN</td>\n",
       "      <td>NaN</td>\n",
       "      <td>NaN</td>\n",
       "      <td>NaN</td>\n",
       "      <td>NaN</td>\n",
       "      <td>NaN</td>\n",
       "      <td>NaN</td>\n",
       "      <td>NaN</td>\n",
       "      <td>NaN</td>\n",
       "      <td>...</td>\n",
       "      <td>NaN</td>\n",
       "      <td>NaN</td>\n",
       "      <td>NaN</td>\n",
       "      <td>NaN</td>\n",
       "      <td>NaN</td>\n",
       "      <td>NaN</td>\n",
       "      <td>NaN</td>\n",
       "      <td>NaN</td>\n",
       "      <td>NaN</td>\n",
       "      <td>0.548329</td>\n",
       "    </tr>\n",
       "    <tr>\n",
       "      <th>OXYGEN_SATURATION_DIFF_REL</th>\n",
       "      <td>NaN</td>\n",
       "      <td>NaN</td>\n",
       "      <td>NaN</td>\n",
       "      <td>NaN</td>\n",
       "      <td>NaN</td>\n",
       "      <td>NaN</td>\n",
       "      <td>NaN</td>\n",
       "      <td>NaN</td>\n",
       "      <td>NaN</td>\n",
       "      <td>NaN</td>\n",
       "      <td>...</td>\n",
       "      <td>NaN</td>\n",
       "      <td>NaN</td>\n",
       "      <td>NaN</td>\n",
       "      <td>NaN</td>\n",
       "      <td>NaN</td>\n",
       "      <td>NaN</td>\n",
       "      <td>NaN</td>\n",
       "      <td>NaN</td>\n",
       "      <td>NaN</td>\n",
       "      <td>NaN</td>\n",
       "    </tr>\n",
       "  </tbody>\n",
       "</table>\n",
       "<p>229 rows × 229 columns</p>\n",
       "</div>"
      ],
      "text/plain": [
       "                                 PATIENT_VISIT_IDENTIFIER  AGE_ABOVE65  \\\n",
       "PATIENT_VISIT_IDENTIFIER                              NaN     0.030609   \n",
       "AGE_ABOVE65                                           NaN          NaN   \n",
       "AGE_PERCENTIL                                         NaN          NaN   \n",
       "GENDER                                                NaN          NaN   \n",
       "DISEASE GROUPING 1                                    NaN          NaN   \n",
       "...                                                   ...          ...   \n",
       "BLOODPRESSURE_SISTOLIC_DIFF_REL                       NaN          NaN   \n",
       "HEART_RATE_DIFF_REL                                   NaN          NaN   \n",
       "RESPIRATORY_RATE_DIFF_REL                             NaN          NaN   \n",
       "TEMPERATURE_DIFF_REL                                  NaN          NaN   \n",
       "OXYGEN_SATURATION_DIFF_REL                            NaN          NaN   \n",
       "\n",
       "                                 AGE_PERCENTIL    GENDER  DISEASE GROUPING 1  \\\n",
       "PATIENT_VISIT_IDENTIFIER              0.020968  0.059944            0.076389   \n",
       "AGE_ABOVE65                           0.868837  0.047970            0.266971   \n",
       "AGE_PERCENTIL                              NaN  0.071697            0.297001   \n",
       "GENDER                                     NaN       NaN            0.038474   \n",
       "DISEASE GROUPING 1                         NaN       NaN                 NaN   \n",
       "...                                        ...       ...                 ...   \n",
       "BLOODPRESSURE_SISTOLIC_DIFF_REL            NaN       NaN                 NaN   \n",
       "HEART_RATE_DIFF_REL                        NaN       NaN                 NaN   \n",
       "RESPIRATORY_RATE_DIFF_REL                  NaN       NaN                 NaN   \n",
       "TEMPERATURE_DIFF_REL                       NaN       NaN                 NaN   \n",
       "OXYGEN_SATURATION_DIFF_REL                 NaN       NaN                 NaN   \n",
       "\n",
       "                                 DISEASE GROUPING 2  DISEASE GROUPING 3  \\\n",
       "PATIENT_VISIT_IDENTIFIER                   0.044868            0.041014   \n",
       "AGE_ABOVE65                                0.067469            0.157591   \n",
       "AGE_PERCENTIL                              0.076109            0.131548   \n",
       "GENDER                                     0.032425            0.074494   \n",
       "DISEASE GROUPING 1                         0.194104            0.240389   \n",
       "...                                             ...                 ...   \n",
       "BLOODPRESSURE_SISTOLIC_DIFF_REL                 NaN                 NaN   \n",
       "HEART_RATE_DIFF_REL                             NaN                 NaN   \n",
       "RESPIRATORY_RATE_DIFF_REL                       NaN                 NaN   \n",
       "TEMPERATURE_DIFF_REL                            NaN                 NaN   \n",
       "OXYGEN_SATURATION_DIFF_REL                      NaN                 NaN   \n",
       "\n",
       "                                 DISEASE GROUPING 4  DISEASE GROUPING 5  \\\n",
       "PATIENT_VISIT_IDENTIFIER                   0.017013            0.009263   \n",
       "AGE_ABOVE65                                0.016392            0.305052   \n",
       "AGE_PERCENTIL                              0.003178            0.333592   \n",
       "GENDER                                     0.054625            0.022495   \n",
       "DISEASE GROUPING 1                         0.010628            0.332670   \n",
       "...                                             ...                 ...   \n",
       "BLOODPRESSURE_SISTOLIC_DIFF_REL                 NaN                 NaN   \n",
       "HEART_RATE_DIFF_REL                             NaN                 NaN   \n",
       "RESPIRATORY_RATE_DIFF_REL                       NaN                 NaN   \n",
       "TEMPERATURE_DIFF_REL                            NaN                 NaN   \n",
       "OXYGEN_SATURATION_DIFF_REL                      NaN                 NaN   \n",
       "\n",
       "                                 DISEASE GROUPING 6  ...  HEART_RATE_DIFF  \\\n",
       "PATIENT_VISIT_IDENTIFIER                   0.014407  ...         0.030928   \n",
       "AGE_ABOVE65                                0.015739  ...         0.049166   \n",
       "AGE_PERCENTIL                              0.054903  ...         0.032571   \n",
       "GENDER                                     0.016748  ...         0.029587   \n",
       "DISEASE GROUPING 1                         0.168473  ...         0.089166   \n",
       "...                                             ...  ...              ...   \n",
       "BLOODPRESSURE_SISTOLIC_DIFF_REL                 NaN  ...              NaN   \n",
       "HEART_RATE_DIFF_REL                             NaN  ...              NaN   \n",
       "RESPIRATORY_RATE_DIFF_REL                       NaN  ...              NaN   \n",
       "TEMPERATURE_DIFF_REL                            NaN  ...              NaN   \n",
       "OXYGEN_SATURATION_DIFF_REL                      NaN  ...              NaN   \n",
       "\n",
       "                                 RESPIRATORY_RATE_DIFF  TEMPERATURE_DIFF  \\\n",
       "PATIENT_VISIT_IDENTIFIER                      0.025182          0.004614   \n",
       "AGE_ABOVE65                                   0.136207          0.086543   \n",
       "AGE_PERCENTIL                                 0.128009          0.084260   \n",
       "GENDER                                        0.021981          0.051045   \n",
       "DISEASE GROUPING 1                            0.072729          0.076118   \n",
       "...                                                ...               ...   \n",
       "BLOODPRESSURE_SISTOLIC_DIFF_REL                    NaN               NaN   \n",
       "HEART_RATE_DIFF_REL                                NaN               NaN   \n",
       "RESPIRATORY_RATE_DIFF_REL                          NaN               NaN   \n",
       "TEMPERATURE_DIFF_REL                               NaN               NaN   \n",
       "OXYGEN_SATURATION_DIFF_REL                         NaN               NaN   \n",
       "\n",
       "                                 OXYGEN_SATURATION_DIFF  \\\n",
       "PATIENT_VISIT_IDENTIFIER                       0.038469   \n",
       "AGE_ABOVE65                                    0.097715   \n",
       "AGE_PERCENTIL                                  0.084884   \n",
       "GENDER                                         0.027600   \n",
       "DISEASE GROUPING 1                             0.015832   \n",
       "...                                                 ...   \n",
       "BLOODPRESSURE_SISTOLIC_DIFF_REL                     NaN   \n",
       "HEART_RATE_DIFF_REL                                 NaN   \n",
       "RESPIRATORY_RATE_DIFF_REL                           NaN   \n",
       "TEMPERATURE_DIFF_REL                                NaN   \n",
       "OXYGEN_SATURATION_DIFF_REL                          NaN   \n",
       "\n",
       "                                 BLOODPRESSURE_DIASTOLIC_DIFF_REL  \\\n",
       "PATIENT_VISIT_IDENTIFIER                                 0.016150   \n",
       "AGE_ABOVE65                                              0.127839   \n",
       "AGE_PERCENTIL                                            0.124197   \n",
       "GENDER                                                   0.001085   \n",
       "DISEASE GROUPING 1                                       0.083740   \n",
       "...                                                           ...   \n",
       "BLOODPRESSURE_SISTOLIC_DIFF_REL                               NaN   \n",
       "HEART_RATE_DIFF_REL                                           NaN   \n",
       "RESPIRATORY_RATE_DIFF_REL                                     NaN   \n",
       "TEMPERATURE_DIFF_REL                                          NaN   \n",
       "OXYGEN_SATURATION_DIFF_REL                                    NaN   \n",
       "\n",
       "                                 BLOODPRESSURE_SISTOLIC_DIFF_REL  \\\n",
       "PATIENT_VISIT_IDENTIFIER                                0.032159   \n",
       "AGE_ABOVE65                                             0.137949   \n",
       "AGE_PERCENTIL                                           0.131590   \n",
       "GENDER                                                  0.000061   \n",
       "DISEASE GROUPING 1                                      0.091792   \n",
       "...                                                          ...   \n",
       "BLOODPRESSURE_SISTOLIC_DIFF_REL                              NaN   \n",
       "HEART_RATE_DIFF_REL                                          NaN   \n",
       "RESPIRATORY_RATE_DIFF_REL                                    NaN   \n",
       "TEMPERATURE_DIFF_REL                                         NaN   \n",
       "OXYGEN_SATURATION_DIFF_REL                                   NaN   \n",
       "\n",
       "                                 HEART_RATE_DIFF_REL  \\\n",
       "PATIENT_VISIT_IDENTIFIER                    0.042087   \n",
       "AGE_ABOVE65                                 0.062639   \n",
       "AGE_PERCENTIL                               0.040479   \n",
       "GENDER                                      0.033932   \n",
       "DISEASE GROUPING 1                          0.085687   \n",
       "...                                              ...   \n",
       "BLOODPRESSURE_SISTOLIC_DIFF_REL             0.830502   \n",
       "HEART_RATE_DIFF_REL                              NaN   \n",
       "RESPIRATORY_RATE_DIFF_REL                        NaN   \n",
       "TEMPERATURE_DIFF_REL                             NaN   \n",
       "OXYGEN_SATURATION_DIFF_REL                       NaN   \n",
       "\n",
       "                                 RESPIRATORY_RATE_DIFF_REL  \\\n",
       "PATIENT_VISIT_IDENTIFIER                          0.022280   \n",
       "AGE_ABOVE65                                       0.131803   \n",
       "AGE_PERCENTIL                                     0.120657   \n",
       "GENDER                                            0.020747   \n",
       "DISEASE GROUPING 1                                0.067931   \n",
       "...                                                    ...   \n",
       "BLOODPRESSURE_SISTOLIC_DIFF_REL                   0.815669   \n",
       "HEART_RATE_DIFF_REL                               0.777771   \n",
       "RESPIRATORY_RATE_DIFF_REL                              NaN   \n",
       "TEMPERATURE_DIFF_REL                                   NaN   \n",
       "OXYGEN_SATURATION_DIFF_REL                             NaN   \n",
       "\n",
       "                                 TEMPERATURE_DIFF_REL  \\\n",
       "PATIENT_VISIT_IDENTIFIER                     0.005033   \n",
       "AGE_ABOVE65                                  0.087487   \n",
       "AGE_PERCENTIL                                0.085545   \n",
       "GENDER                                       0.050511   \n",
       "DISEASE GROUPING 1                           0.077617   \n",
       "...                                               ...   \n",
       "BLOODPRESSURE_SISTOLIC_DIFF_REL              0.825771   \n",
       "HEART_RATE_DIFF_REL                          0.820578   \n",
       "RESPIRATORY_RATE_DIFF_REL                    0.769361   \n",
       "TEMPERATURE_DIFF_REL                              NaN   \n",
       "OXYGEN_SATURATION_DIFF_REL                        NaN   \n",
       "\n",
       "                                 OXYGEN_SATURATION_DIFF_REL  \n",
       "PATIENT_VISIT_IDENTIFIER                           0.038483  \n",
       "AGE_ABOVE65                                        0.098776  \n",
       "AGE_PERCENTIL                                      0.085933  \n",
       "GENDER                                             0.027661  \n",
       "DISEASE GROUPING 1                                 0.015710  \n",
       "...                                                     ...  \n",
       "BLOODPRESSURE_SISTOLIC_DIFF_REL                    0.570788  \n",
       "HEART_RATE_DIFF_REL                                0.541169  \n",
       "RESPIRATORY_RATE_DIFF_REL                          0.548191  \n",
       "TEMPERATURE_DIFF_REL                               0.548329  \n",
       "OXYGEN_SATURATION_DIFF_REL                              NaN  \n",
       "\n",
       "[229 rows x 229 columns]"
      ]
     },
     "execution_count": 81,
     "metadata": {},
     "output_type": "execute_result"
    }
   ],
   "source": [
    "# checking data correlation\n",
    "correl = X.corr()\n",
    "\n",
    "correl = correl.where(np.triu(np.ones_like(correl),k=1).astype(np.bool))\n",
    "correl = correl.abs()\n",
    "correl"
   ]
  },
  {
   "cell_type": "code",
   "execution_count": 100,
   "metadata": {
    "execution": {
     "iopub.execute_input": "2022-04-01T00:36:33.167798Z",
     "iopub.status.busy": "2022-04-01T00:36:33.167125Z",
     "iopub.status.idle": "2022-04-01T00:36:34.012342Z",
     "shell.execute_reply": "2022-04-01T00:36:34.011526Z",
     "shell.execute_reply.started": "2022-04-01T00:36:33.167747Z"
    }
   },
   "outputs": [
    {
     "data": {
      "image/png": "[encoded data removed]",
      "text/plain": [
       "<Figure size 432x288 with 2 Axes>"
      ]
     },
     "metadata": {},
     "output_type": "display_data"
    }
   ],
   "source": [
    "ax = sns.heatmap(correl, cmap='magma')\n",
    "ax.set_title('''Sírio Libanes Hospital \n",
    "COVID-19 Absolute Data Correlation''',\n",
    "            fontsize=20);"
   ]
  },
  {
   "cell_type": "markdown",
   "metadata": {},
   "source": [
    "Once the interest in this section is to remove only highly related parameters, it was chosen to ignore values with absolute correlation above 50% to 90% percent and use these values in a future model study.\n",
    "\n",
    "From the figure above it is possible to see that great part of the data there presented are not strongly related. So, given that, it was decided to, based on the heatmap scale, to remove values with \"hotter color\" correlation \n",
    "\n",
    "It is possible to see in the figure above that there are some data that are highly related according to the defined threshold. Given that, it is necessary to remove these highly related parameters."
   ]
  },
  {
   "cell_type": "code",
   "execution_count": 83,
   "metadata": {
    "execution": {
     "iopub.execute_input": "2022-04-01T00:36:34.014032Z",
     "iopub.status.busy": "2022-04-01T00:36:34.013507Z",
     "iopub.status.idle": "2022-04-01T00:36:35.686452Z",
     "shell.execute_reply": "2022-04-01T00:36:35.685366Z",
     "shell.execute_reply.started": "2022-04-01T00:36:34.013995Z"
    }
   },
   "outputs": [
    {
     "name": "stdout",
     "output_type": "stream",
     "text": [
      "Columns in X_corr050: 74\n",
      "Columns in X_corr060: 80\n",
      "Columns in X_corr070: 88\n",
      "Columns in X_corr080: 98\n",
      "Columns in X_corr090: 104\n"
     ]
    }
   ],
   "source": [
    "# Removing all columns with more than 50% correlation (cf=0.5)\n",
    "X_corr050 = remove_cols(X, 0.5)\n",
    "print(f'Columns in X_corr050: {len(X_corr050.columns)}')\n",
    "\n",
    "# Removing all columns with more than 60% correlation (cf=0.6)\n",
    "X_corr060 = remove_cols(X, 0.6)\n",
    "print(f'Columns in X_corr060: {len(X_corr060.columns)}')\n",
    "\n",
    "# Removing all columns with more than 70% correlation (cf=0.7)\n",
    "X_corr070 = remove_cols(X, 0.7)\n",
    "print(f'Columns in X_corr070: {len(X_corr070.columns)}')\n",
    "\n",
    "# Removing all columns with more than 80% correlation (cf=0.8)\n",
    "X_corr080 = remove_cols(X, 0.8)\n",
    "print(f'Columns in X_corr080: {len(X_corr080.columns)}')\n",
    "\n",
    "# Removing all columns with more than 90% correlation (cf=0.9)\n",
    "X_corr090 = remove_cols(X, 0.9)\n",
    "print(f'Columns in X_corr090: {len(X_corr090.columns)}')"
   ]
  },
  {
   "cell_type": "markdown",
   "metadata": {},
   "source": [
    "### SelectKBest\n",
    "\n",
    "The SelectKBest is a sklearn capability that plays out a factual test to choose the **\"K\"** values from the dataset.\n",
    "Additionally, a study of convergence for the **K** elements will be carried out due to the large number of possibilities provided by this method."
   ]
  },
  {
   "cell_type": "code",
   "execution_count": 84,
   "metadata": {
    "execution": {
     "iopub.execute_input": "2022-04-01T00:36:35.688238Z",
     "iopub.status.busy": "2022-04-01T00:36:35.687929Z",
     "iopub.status.idle": "2022-04-01T00:36:35.773077Z",
     "shell.execute_reply": "2022-04-01T00:36:35.771917Z",
     "shell.execute_reply.started": "2022-04-01T00:36:35.688209Z"
    }
   },
   "outputs": [
    {
     "name": "stdout",
     "output_type": "stream",
     "text": [
      "Columns in X_KBest090: 206\n",
      "Columns in X_KBest075: 171\n",
      "Columns in X_KBest050: 114\n",
      "Columns in X_KBest025: 57\n"
     ]
    }
   ],
   "source": [
    "X_KBest090p = SelectKBest(f_classif, k=int(X.shape[1]*0.90)).fit_transform(X, y)\n",
    "print(f'Columns in X_KBest090: {X_KBest090p.shape[1]}')\n",
    "\n",
    "X_KBest075p = SelectKBest(f_classif, k=int(X.shape[1]*0.75)).fit_transform(X, y)\n",
    "print(f'Columns in X_KBest075: {X_KBest075p.shape[1]}')\n",
    "\n",
    "X_KBest050p = SelectKBest(f_classif, k=int(X.shape[1]*0.50)).fit_transform(X, y)\n",
    "print(f'Columns in X_KBest050: {X_KBest050p.shape[1]}')\n",
    "\n",
    "X_KBest025p = SelectKBest(f_classif, k=int(X.shape[1]*0.25)).fit_transform(X, y)\n",
    "print(f'Columns in X_KBest025: {X_KBest025p.shape[1]}')"
   ]
  },
  {
   "cell_type": "markdown",
   "metadata": {},
   "source": [
    "### DummyClassifier\n",
    "\n",
    "A model known as a dummy classifier represents the simplest approaches to prediction.In order to compare actual predictions, this model serves as a starting point.This way, a model must not be considered a good model if it produces a result worse than the **DummyClassifier**."
   ]
  },
  {
   "cell_type": "code",
   "execution_count": 85,
   "metadata": {
    "execution": {
     "iopub.execute_input": "2022-04-01T00:36:35.775258Z",
     "iopub.status.busy": "2022-04-01T00:36:35.774615Z",
     "iopub.status.idle": "2022-04-01T00:36:36.00532Z",
     "shell.execute_reply": "2022-04-01T00:36:36.004239Z",
     "shell.execute_reply.started": "2022-04-01T00:36:35.775208Z"
    }
   },
   "outputs": [
    {
     "name": "stdout",
     "output_type": "stream",
     "text": [
      "AUC_mean -> 0.49835435165670444\n",
      "\n",
      "AUC -> 0.44669605278785307 | 0.5500126505255558 \n",
      "\n"
     ]
    },
    {
     "data": {
      "text/plain": [
       "0.49835435165670444"
      ]
     },
     "execution_count": 85,
     "metadata": {},
     "output_type": "execute_result"
    }
   ],
   "source": [
    "model_dummy = DummyClassifier()\n",
    "run_modelo_cv(model_dummy, X, y, 5,10)"
   ]
  },
  {
   "cell_type": "markdown",
   "metadata": {},
   "source": [
    "### LogisticRegression\n",
    "\n",
    "The LogisticRegression is a linear model in Scikit Learn that allows users to use multi-class problems to perform linear regressions.\n",
    "This model, in contrast to the DummyClassifier, will be used to select the best features."
   ]
  },
  {
   "cell_type": "code",
   "execution_count": 86,
   "metadata": {
    "execution": {
     "iopub.execute_input": "2022-04-01T00:36:36.007268Z",
     "iopub.status.busy": "2022-04-01T00:36:36.006872Z",
     "iopub.status.idle": "2022-04-01T00:36:43.718453Z",
     "shell.execute_reply": "2022-04-01T00:36:43.717188Z",
     "shell.execute_reply.started": "2022-04-01T00:36:36.007237Z"
    }
   },
   "outputs": [
    {
     "name": "stdout",
     "output_type": "stream",
     "text": [
      "AUC_mean -> 0.8904056248488409\n",
      "\n",
      "AUC -> 0.855040327760636 | 0.9257709219370458 \n",
      "\n"
     ]
    },
    {
     "data": {
      "text/plain": [
       "0.8904056248488409"
      ]
     },
     "execution_count": 86,
     "metadata": {},
     "output_type": "execute_result"
    }
   ],
   "source": [
    "#### Parameters setup study\n",
    "## Baseline condition\n",
    "model_LReg = LogisticRegression()\n",
    "run_modelo_cv(model_LReg, X, y, 5,10)"
   ]
  },
  {
   "cell_type": "code",
   "execution_count": 87,
   "metadata": {
    "execution": {
     "iopub.execute_input": "2022-04-01T00:36:43.721615Z",
     "iopub.status.busy": "2022-04-01T00:36:43.720653Z",
     "iopub.status.idle": "2022-04-01T00:41:15.654576Z",
     "shell.execute_reply": "2022-04-01T00:41:15.65332Z",
     "shell.execute_reply.started": "2022-04-01T00:36:43.721554Z"
    }
   },
   "outputs": [
    {
     "name": "stdout",
     "output_type": "stream",
     "text": [
      "Number of iterations: 100\n",
      "AUC_mean -> 0.8904056248488409\n",
      "\n",
      "AUC -> 0.855040327760636 | 0.9257709219370458 \n",
      "\n",
      "Number of iterations: 200\n",
      "AUC_mean -> 0.8932588190581489\n",
      "\n",
      "AUC -> 0.8594645074588265 | 0.9270531306574712 \n",
      "\n",
      "Number of iterations: 400\n",
      "AUC_mean -> 0.8931309815844937\n",
      "\n",
      "AUC -> 0.8597330619796721 | 0.9265289011893152 \n",
      "\n",
      "Number of iterations: 800\n",
      "AUC_mean -> 0.8932705662854576\n",
      "\n",
      "AUC -> 0.8595468461028921 | 0.9269942864680232 \n",
      "\n",
      "Number of iterations: 1600\n",
      "AUC_mean -> 0.89355249974087\n",
      "\n",
      "AUC -> 0.8598231562361685 | 0.9272818432455716 \n",
      "\n",
      "Number of iterations: 3600\n",
      "AUC_mean -> 0.89355249974087\n",
      "\n",
      "AUC -> 0.8598231562361685 | 0.9272818432455716 \n",
      "\n",
      "Number of iterations: 7200\n",
      "AUC_mean -> 0.89355249974087\n",
      "\n",
      "AUC -> 0.8598231562361685 | 0.9272818432455716 \n",
      "\n"
     ]
    }
   ],
   "source": [
    "## max_iter\n",
    "auc_iter = []\n",
    "nsteps = [100,200, 400, 800, 1600, 3600, 7200]\n",
    "for it in nsteps:\n",
    "    print(f'Number of iterations: {it}')\n",
    "    model_LReg = LogisticRegression(max_iter=it)\n",
    "    auc_iter.append(run_modelo_cv(model_LReg, X, y, 5,10))"
   ]
  },
  {
   "cell_type": "code",
   "execution_count": 88,
   "metadata": {
    "execution": {
     "iopub.execute_input": "2022-04-01T00:41:15.657096Z",
     "iopub.status.busy": "2022-04-01T00:41:15.656226Z",
     "iopub.status.idle": "2022-04-01T00:41:15.954254Z",
     "shell.execute_reply": "2022-04-01T00:41:15.953051Z",
     "shell.execute_reply.started": "2022-04-01T00:41:15.657031Z"
    }
   },
   "outputs": [
    {
     "data": {
      "image/png": "[encoded data removed]",
      "text/plain": [
       "<Figure size 576x288 with 1 Axes>"
      ]
     },
     "metadata": {},
     "output_type": "display_data"
    }
   ],
   "source": [
    "# Plot convergency for iterations\n",
    "sns.set()\n",
    "ax = sns.lineplot(x=nsteps, y=auc_iter)\n",
    "ax.set_title('Iterations Convergence Analysis \\n', fontsize=25)\n",
    "ax.figure.set_size_inches(8,4)\n",
    "ax.set(xlabel='max_iter', ylabel='AUC Score');"
   ]
  },
  {
   "cell_type": "markdown",
   "metadata": {},
   "source": [
    "For the number of iterations it was possible to identify that it is necessary at least 1600 iterations to converge with the total amount of data. Besides that, it is not possible to see any significant impact on AUC score when more than 1600 iterations were used. Them, after that, it was decided that the value of max_iter used will be at least 1600 (some other parameters may request more iterations to converge)."
   ]
  },
  {
   "cell_type": "code",
   "execution_count": 89,
   "metadata": {
    "execution": {
     "iopub.execute_input": "2022-04-01T00:41:15.956787Z",
     "iopub.status.busy": "2022-04-01T00:41:15.956037Z",
     "iopub.status.idle": "2022-04-01T00:46:29.179372Z",
     "shell.execute_reply": "2022-04-01T00:46:29.178039Z",
     "shell.execute_reply.started": "2022-04-01T00:41:15.956716Z"
    }
   },
   "outputs": [
    {
     "name": "stdout",
     "output_type": "stream",
     "text": [
      "penalty = l2\n",
      "AUC_mean -> 0.89355249974087\n",
      "\n",
      "AUC -> 0.8598231562361685 | 0.9272818432455716 \n",
      "\n",
      "penalty = none\n",
      "AUC_mean -> 0.8876236050167572\n",
      "\n",
      "AUC -> 0.8527149694784192 | 0.9225322405550952 \n",
      "\n"
     ]
    }
   ],
   "source": [
    "## penalty\n",
    "penalties = ['l2', 'none']\n",
    "auc_penalty = []\n",
    "for p in penalties:\n",
    "    print(f'penalty = {p}')\n",
    "    model_LReg = LogisticRegression(penalty=p, max_iter=10000)\n",
    "    auc_penalty.append(run_modelo_cv(model_LReg, X, y, 5,10))"
   ]
  },
  {
   "cell_type": "code",
   "execution_count": 90,
   "metadata": {
    "execution": {
     "iopub.execute_input": "2022-04-01T00:46:29.182589Z",
     "iopub.status.busy": "2022-04-01T00:46:29.181529Z",
     "iopub.status.idle": "2022-04-01T00:47:28.363546Z",
     "shell.execute_reply": "2022-04-01T00:47:28.362208Z",
     "shell.execute_reply.started": "2022-04-01T00:46:29.182519Z"
    }
   },
   "outputs": [
    {
     "name": "stdout",
     "output_type": "stream",
     "text": [
      "dual = True\n",
      "AUC_mean -> nan\n",
      "\n",
      "AUC -> nan | nan \n",
      "\n",
      "dual = False\n",
      "AUC_mean -> 0.89355249974087\n",
      "\n",
      "AUC -> 0.8598231562361685 | 0.9272818432455716 \n",
      "\n"
     ]
    }
   ],
   "source": [
    "# dual bool [True x False]\n",
    "dual = [True, False]\n",
    "auc_dual = []\n",
    "for d in dual:\n",
    "    print(f'dual = {d}')\n",
    "    model_LReg = LogisticRegression(dual=d, max_iter=1600)\n",
    "    auc_dual.append(run_modelo_cv(model_LReg, X, y, 5,10))"
   ]
  },
  {
   "cell_type": "markdown",
   "metadata": {},
   "source": [
    "As observed above, there were no convergence for **dual==True**. Due to that the default value was chosen to this parameter."
   ]
  },
  {
   "cell_type": "code",
   "execution_count": 91,
   "metadata": {
    "execution": {
     "iopub.execute_input": "2022-04-01T00:47:28.372615Z",
     "iopub.status.busy": "2022-04-01T00:47:28.369484Z",
     "iopub.status.idle": "2022-04-01T00:53:40.740536Z",
     "shell.execute_reply": "2022-04-01T00:53:40.739177Z",
     "shell.execute_reply.started": "2022-04-01T00:47:28.372545Z"
    }
   },
   "outputs": [
    {
     "name": "stdout",
     "output_type": "stream",
     "text": [
      "C = 0.2\n",
      "AUC_mean -> 0.8931855716408115\n",
      "\n",
      "AUC -> 0.8583331893748904 | 0.9280379539067325 \n",
      "\n",
      "C = 0.30000000000000004\n",
      "AUC_mean -> 0.8938717479183222\n",
      "\n",
      "AUC -> 0.8595917184320679 | 0.9281517774045766 \n",
      "\n",
      "C = 0.4000000000000001\n",
      "AUC_mean -> 0.8941191307051792\n",
      "\n",
      "AUC -> 0.8600351600852316 | 0.9282031013251268 \n",
      "\n",
      "C = 0.5000000000000001\n",
      "AUC_mean -> 0.8940887261168504\n",
      "\n",
      "AUC -> 0.8599923335731009 | 0.9281851186605999 \n",
      "\n",
      "C = 0.6000000000000001\n",
      "AUC_mean -> 0.8939988943786062\n",
      "\n",
      "AUC -> 0.8600219703540555 | 0.927975818403157 \n",
      "\n",
      "C = 0.7000000000000002\n",
      "AUC_mean -> 0.8938758939985487\n",
      "\n",
      "AUC -> 0.860028984592658 | 0.9277228034044395 \n",
      "\n",
      "C = 0.8000000000000003\n",
      "AUC_mean -> 0.8937694779393982\n",
      "\n",
      "AUC -> 0.8600030985582604 | 0.927535857320536 \n",
      "\n",
      "C = 0.9000000000000001\n",
      "AUC_mean -> 0.8936775731610405\n",
      "\n",
      "AUC -> 0.8599728386172314 | 0.9273823077048495 \n",
      "\n"
     ]
    }
   ],
   "source": [
    "C = np.arange(0.2,1,.1)\n",
    "auc_C = []\n",
    "for c in C:\n",
    "    print(f'C = {c}')\n",
    "    model_LReg = LogisticRegression(C=c, max_iter=1600)\n",
    "    auc_C.append(run_modelo_cv(model_LReg, X, y, 5,10))"
   ]
  },
  {
   "cell_type": "code",
   "execution_count": 92,
   "metadata": {
    "execution": {
     "iopub.execute_input": "2022-04-01T00:53:40.743329Z",
     "iopub.status.busy": "2022-04-01T00:53:40.742467Z",
     "iopub.status.idle": "2022-04-01T00:53:41.038137Z",
     "shell.execute_reply": "2022-04-01T00:53:41.037032Z",
     "shell.execute_reply.started": "2022-04-01T00:53:40.74327Z"
    }
   },
   "outputs": [
    {
     "data": {
      "image/png": "[encoded data removed]",
      "text/plain": [
       "<Figure size 576x288 with 1 Axes>"
      ]
     },
     "metadata": {},
     "output_type": "display_data"
    }
   ],
   "source": [
    "# Plot convergency for C fatcot\n",
    "sns.set()\n",
    "ax = sns.lineplot(x=C, y=auc_C)\n",
    "ax.set_title('\"C\" factor Convergence Analysis \\n', fontsize=25)\n",
    "ax.figure.set_size_inches(8,4)\n",
    "ax.set(xlabel='\"C\" factor', ylabel='AUC Score');"
   ]
  },
  {
   "cell_type": "markdown",
   "metadata": {},
   "source": [
    "For **C** Factor it was possible to verify a better convergence with **C=0.5**. Even though this difference is not high compared to the standard value, it is possible to improve a little more the model."
   ]
  },
  {
   "cell_type": "code",
   "execution_count": 93,
   "metadata": {
    "execution": {
     "iopub.execute_input": "2022-04-01T00:53:41.041664Z",
     "iopub.status.busy": "2022-04-01T00:53:41.041199Z",
     "iopub.status.idle": "2022-04-01T01:05:23.599208Z",
     "shell.execute_reply": "2022-04-01T01:05:23.595864Z",
     "shell.execute_reply.started": "2022-04-01T00:53:41.041629Z"
    }
   },
   "outputs": [
    {
     "name": "stdout",
     "output_type": "stream",
     "text": [
      "solver = newton-cg\n",
      "AUC_mean -> 0.8941916871091456\n",
      "\n",
      "AUC -> 0.860129741500315 | 0.9282536327179763 \n",
      "\n",
      "solver = lbfgs\n",
      "AUC_mean -> 0.894079742943026\n",
      "\n",
      "AUC -> 0.8599619703128215 | 0.9281975155732304 \n",
      "\n",
      "solver = liblinear\n",
      "AUC_mean -> 0.8944038282140759\n",
      "\n",
      "AUC -> 0.8566792379593692 | 0.9321284184687827 \n",
      "\n",
      "solver = sag\n",
      "AUC_mean -> 0.8855443457830908\n",
      "\n",
      "AUC -> 0.8437201052304157 | 0.9273685863357659 \n",
      "\n",
      "solver = saga\n",
      "AUC_mean -> 0.8755944442524963\n",
      "\n",
      "AUC -> 0.8311922109283753 | 0.9199966775766174 \n",
      "\n"
     ]
    }
   ],
   "source": [
    "# solver\n",
    "solver = ['newton-cg', 'lbfgs', 'liblinear', 'sag', 'saga']\n",
    "auc_solver = []\n",
    "for s in solver:\n",
    "    print(f'solver = {s}')\n",
    "    model_LReg = LogisticRegression(C=0.5, max_iter=1600, solver=s)\n",
    "    auc_solver.append(run_modelo_cv(model_LReg, X, y, 5,10))"
   ]
  },
  {
   "cell_type": "code",
   "execution_count": 103,
   "metadata": {
    "execution": {
     "iopub.execute_input": "2022-04-01T01:05:23.601863Z",
     "iopub.status.busy": "2022-04-01T01:05:23.601344Z",
     "iopub.status.idle": "2022-04-01T01:05:23.854206Z",
     "shell.execute_reply": "2022-04-01T01:05:23.853197Z",
     "shell.execute_reply.started": "2022-04-01T01:05:23.601811Z"
    }
   },
   "outputs": [
    {
     "data": {
      "text/plain": [
       "[Text(0.5, 0, 'Solver'), Text(0, 0.5, 'AUC Score'), (0.86, 0.9)]"
      ]
     },
     "execution_count": 103,
     "metadata": {},
     "output_type": "execute_result"
    },
    {
     "data": {
      "image/png": "[encoded data removed]",
      "text/plain": [
       "<Figure size 576x288 with 1 Axes>"
      ]
     },
     "metadata": {},
     "output_type": "display_data"
    }
   ],
   "source": [
    "# Plot convergency for C fatcot\n",
    "sns.set()\n",
    "ax = sns.barplot(x=solver, y=auc_solver)\n",
    "ax.set_title('Solver Convergence Analysis \\n', fontsize=45)\n",
    "ax.figure.set_size_inches(8,4)\n",
    "ax.set(xlabel='Solver', ylabel='AUC Score',ylim=(0.86, 0.9))"
   ]
  },
  {
   "cell_type": "markdown",
   "metadata": {},
   "source": [
    "For the solver convergence test, it was noticed that **sag** and **saga** methods didn't converged. Besides that, even though the difference between the other 3 methods were minor, it was decided to choose the one with better AUC score, the **liblinear** solver."
   ]
  },
  {
   "cell_type": "code",
   "execution_count": 95,
   "metadata": {
    "execution": {
     "iopub.execute_input": "2022-04-01T01:05:23.860908Z",
     "iopub.status.busy": "2022-04-01T01:05:23.860553Z",
     "iopub.status.idle": "2022-04-01T01:05:50.732281Z",
     "shell.execute_reply": "2022-04-01T01:05:50.731171Z",
     "shell.execute_reply.started": "2022-04-01T01:05:23.860877Z"
    }
   },
   "outputs": [
    {
     "name": "stdout",
     "output_type": "stream",
     "text": [
      "X_corr = X_corr050\n",
      "AUC_mean -> 0.8514297066648239\n",
      "\n",
      "AUC -> 0.8097750039563818 | 0.8930844093732659 \n",
      "\n",
      "X_corr = X_corr060\n",
      "AUC_mean -> 0.8703710741802853\n",
      "\n",
      "AUC -> 0.8302143606644504 | 0.9105277876961201 \n",
      "\n",
      "X_corr = X_corr070\n",
      "AUC_mean -> 0.8921739280655081\n",
      "\n",
      "AUC -> 0.853418054032589 | 0.9309298020984272 \n",
      "\n",
      "X_corr = X_corr080\n",
      "AUC_mean -> 0.8930065991776941\n",
      "\n",
      "AUC -> 0.8537358982604698 | 0.9322773000949184 \n",
      "\n",
      "X_corr = X_corr090\n",
      "AUC_mean -> 0.8937473655115227\n",
      "\n",
      "AUC -> 0.8554258720533736 | 0.9320688589696717 \n",
      "\n",
      "X_corr = X_corr100\n",
      "AUC_mean -> 0.8944038282140759\n",
      "\n",
      "AUC -> 0.8566792379593692 | 0.9321284184687827 \n",
      "\n"
     ]
    }
   ],
   "source": [
    "# input data correlation study\n",
    "X_corr = [X_corr050, X_corr060, X_corr070, X_corr080, X_corr090, X]\n",
    "X_corr_str = ['X_corr050', 'X_corr060', 'X_corr070', 'X_corr080', 'X_corr090', 'X_corr100']\n",
    "auc_X_corr = []\n",
    "for X, X_str in zip(X_corr,X_corr_str):\n",
    "    print(f'X_corr = {X_str}')\n",
    "    model_LReg = LogisticRegression(C=0.5, max_iter=1600, solver='liblinear')\n",
    "    auc_X_corr.append(run_modelo_cv(model_LReg, X, y, 5,10))"
   ]
  },
  {
   "cell_type": "code",
   "execution_count": 102,
   "metadata": {
    "execution": {
     "iopub.execute_input": "2022-04-01T01:05:50.734662Z",
     "iopub.status.busy": "2022-04-01T01:05:50.734Z",
     "iopub.status.idle": "2022-04-01T01:05:50.988233Z",
     "shell.execute_reply": "2022-04-01T01:05:50.987254Z",
     "shell.execute_reply.started": "2022-04-01T01:05:50.734618Z"
    }
   },
   "outputs": [
    {
     "data": {
      "text/plain": [
       "[Text(0.5, 0, 'INPUT Correlation'), Text(0, 0.5, 'AUC Score'), (0.85, 0.9)]"
      ]
     },
     "execution_count": 102,
     "metadata": {},
     "output_type": "execute_result"
    },
    {
     "data": {
      "image/png": "[encoded data removed]",
      "text/plain": [
       "<Figure size 576x288 with 1 Axes>"
      ]
     },
     "metadata": {},
     "output_type": "display_data"
    }
   ],
   "source": [
    "# Plot convergency for correlation\n",
    "ax = sns.barplot(x=X_corr_str, y=auc_X_corr)\n",
    "ax.set_title('INPUT Features Correlation Analysis \\n', fontsize=45)\n",
    "ax.figure.set_size_inches(8,4)\n",
    "ax.set(xlabel='INPUT Correlation', ylabel='AUC Score',ylim=(0.85, 0.9))"
   ]
  },
  {
   "cell_type": "markdown",
   "metadata": {},
   "source": [
    "With this study was possible to verify that using all input data (**X**) were obtained better data results. Given that, if this model and this method of feature selection were chosen, it must be combined with the greatest amount of data possible."
   ]
  },
  {
   "cell_type": "code",
   "execution_count": 97,
   "metadata": {
    "execution": {
     "iopub.execute_input": "2022-04-01T01:05:50.99093Z",
     "iopub.status.busy": "2022-04-01T01:05:50.989992Z",
     "iopub.status.idle": "2022-04-01T01:06:19.244341Z",
     "shell.execute_reply": "2022-04-01T01:06:19.242878Z",
     "shell.execute_reply.started": "2022-04-01T01:05:50.99087Z"
    }
   },
   "outputs": [
    {
     "name": "stdout",
     "output_type": "stream",
     "text": [
      "X_KBest = X_KBest025p\n",
      "AUC_mean -> 0.8785523269875273\n",
      "\n",
      "AUC -> 0.8406372912536393 | 0.9164673627214153 \n",
      "\n",
      "X_KBest = X_KBest050p\n",
      "AUC_mean -> 0.8848305289707354\n",
      "\n",
      "AUC -> 0.846186483482606 | 0.9234745744588649 \n",
      "\n",
      "X_KBest = X_KBest075p\n",
      "AUC_mean -> 0.8936658259337318\n",
      "\n",
      "AUC -> 0.8556011940930193 | 0.9317304577744443 \n",
      "\n",
      "X_KBest = X_KBest090p\n",
      "AUC_mean -> 0.8943748056524892\n",
      "\n",
      "AUC -> 0.8566556787252233 | 0.932093932579755 \n",
      "\n",
      "X_KBest = X_KBest100p\n",
      "AUC_mean -> 0.8944038282140759\n",
      "\n",
      "AUC -> 0.8566792379593692 | 0.9321284184687827 \n",
      "\n"
     ]
    }
   ],
   "source": [
    "# input data correlation study\n",
    "X_KBest = [X_KBest025p, X_KBest050p, X_KBest075p, X_KBest090p, X]\n",
    "X_KBest_str = ['X_KBest025p', 'X_KBest050p', 'X_KBest075p', 'X_KBest090p', 'X_KBest100p']\n",
    "auc_X_Kbest = []\n",
    "for X, X_str in zip(X_KBest,X_KBest_str):\n",
    "    print(f'X_KBest = {X_str}')\n",
    "    model_LReg = LogisticRegression(C=0.5, max_iter=1600, solver='liblinear')\n",
    "    auc_X_Kbest.append(run_modelo_cv(model_LReg, X, y, 5,10))"
   ]
  },
  {
   "cell_type": "code",
   "execution_count": 101,
   "metadata": {
    "execution": {
     "iopub.execute_input": "2022-04-01T01:06:19.247006Z",
     "iopub.status.busy": "2022-04-01T01:06:19.246487Z",
     "iopub.status.idle": "2022-04-01T01:06:19.505778Z",
     "shell.execute_reply": "2022-04-01T01:06:19.504817Z",
     "shell.execute_reply.started": "2022-04-01T01:06:19.246939Z"
    }
   },
   "outputs": [
    {
     "data": {
      "text/plain": [
       "[Text(0.5, 0, 'KBest Features \\nThe number XXXp represents the percentage of best features'),\n",
       " Text(0, 0.5, 'AUC Score'),\n",
       " (0.87, 0.9)]"
      ]
     },
     "execution_count": 101,
     "metadata": {},
     "output_type": "execute_result"
    },
    {
     "data": {
      "image/png": "[encoded data removed]",
      "text/plain": [
       "<Figure size 576x432 with 1 Axes>"
      ]
     },
     "metadata": {},
     "output_type": "display_data"
    }
   ],
   "source": [
    "# Plot convergency for Kbest features\n",
    "ax = sns.barplot(x=X_KBest_str, y=auc_X_Kbest)\n",
    "ax.set_title('INPUT K Best Features Correlation Analysis \\n', fontsize=45)\n",
    "ax.figure.set_size_inches(8,6)\n",
    "ax.set(xlabel='''KBest Features \n",
    "The number XXXp represents the percentage of best features''', ylabel='AUC Score',ylim=(0.87, 0.9))"
   ]
  },
  {
   "cell_type": "markdown",
   "metadata": {},
   "source": [
    "The **KBest** method for choosing features returned the best AUC score until this  part of the study. Given that, it was chosen to select the **X_KBest090p** feature selection for this model.\n",
    "\n",
    "Then, for the setup for the **LogisticRegression** model must be as presented below:\n",
    "\n",
    "    - C -> 0.5, \n",
    "    - max_iter -> 1600, \n",
    "    - solver -> liblinear\n",
    "    - Features -> KBest with 90% of the features"
   ]
  }
 ],
 "metadata": {
  "kernelspec": {
   "display_name": "Python 3",
   "language": "python",
   "name": "python3"
  },
  "language_info": {
   "codemirror_mode": {
    "name": "ipython",
    "version": 3
   },
   "file_extension": ".py",
   "mimetype": "text/x-python",
   "name": "python",
   "nbconvert_exporter": "python",
   "pygments_lexer": "ipython3",
   "version": "3.8.5"
  }
 },
 "nbformat": 4,
 "nbformat_minor": 4
}
